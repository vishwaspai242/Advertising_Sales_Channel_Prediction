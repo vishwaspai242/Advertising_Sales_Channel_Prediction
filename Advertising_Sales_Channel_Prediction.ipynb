{
 "cells": [
  {
   "cell_type": "markdown",
   "id": "c6eee8aa",
   "metadata": {},
   "source": [
    "# Sales Channel Prediction Case Study  "
   ]
  },
  {
   "cell_type": "markdown",
   "id": "796fc90f",
   "metadata": {},
   "source": [
    "Problem Statement:"
   ]
  },
  {
   "cell_type": "markdown",
   "id": "8d362373",
   "metadata": {},
   "source": [
    "When a company enters a market, the distribution strategy and channel it uses are keys to its success in the market, as well as market know-how and customer knowledge and understanding. Because an effective distribution strategy under efficient supply-chain management opens doors for attaining competitive advantage and strong brand equity in the market, it is a component of the marketing mix that cannot be ignored . "
   ]
  },
  {
   "cell_type": "markdown",
   "id": "dfd2f1c7",
   "metadata": {},
   "source": [
    "The distribution strategy and the channel design have to be right the first time. The case study of Sales channel includes the detailed study of TV, radio and newspaper channel. The predict the total sales generated from all the sales channel.  "
   ]
  },
  {
   "cell_type": "code",
   "execution_count": 1,
   "id": "62fb9b48",
   "metadata": {},
   "outputs": [],
   "source": [
    "import numpy as np\n",
    "import pandas as pd\n",
    "import scipy\n",
    "import sklearn\n",
    "import seaborn as sns\n",
    "import matplotlib.pyplot as plt\n",
    "import warnings\n",
    "warnings.filterwarnings('ignore')\n",
    "import joblib"
   ]
  },
  {
   "cell_type": "code",
   "execution_count": 2,
   "id": "1e1d989e",
   "metadata": {},
   "outputs": [],
   "source": [
    "df=pd.read_csv(\"advertising.csv\")"
   ]
  },
  {
   "cell_type": "code",
   "execution_count": 3,
   "id": "ff9113ac",
   "metadata": {},
   "outputs": [
    {
     "data": {
      "text/html": [
       "<div>\n",
       "<style scoped>\n",
       "    .dataframe tbody tr th:only-of-type {\n",
       "        vertical-align: middle;\n",
       "    }\n",
       "\n",
       "    .dataframe tbody tr th {\n",
       "        vertical-align: top;\n",
       "    }\n",
       "\n",
       "    .dataframe thead th {\n",
       "        text-align: right;\n",
       "    }\n",
       "</style>\n",
       "<table border=\"1\" class=\"dataframe\">\n",
       "  <thead>\n",
       "    <tr style=\"text-align: right;\">\n",
       "      <th></th>\n",
       "      <th>Unnamed: 0</th>\n",
       "      <th>TV</th>\n",
       "      <th>radio</th>\n",
       "      <th>newspaper</th>\n",
       "      <th>sales</th>\n",
       "    </tr>\n",
       "  </thead>\n",
       "  <tbody>\n",
       "    <tr>\n",
       "      <th>0</th>\n",
       "      <td>1</td>\n",
       "      <td>230.1</td>\n",
       "      <td>37.8</td>\n",
       "      <td>69.2</td>\n",
       "      <td>22.1</td>\n",
       "    </tr>\n",
       "    <tr>\n",
       "      <th>1</th>\n",
       "      <td>2</td>\n",
       "      <td>44.5</td>\n",
       "      <td>39.3</td>\n",
       "      <td>45.1</td>\n",
       "      <td>10.4</td>\n",
       "    </tr>\n",
       "    <tr>\n",
       "      <th>2</th>\n",
       "      <td>3</td>\n",
       "      <td>17.2</td>\n",
       "      <td>45.9</td>\n",
       "      <td>69.3</td>\n",
       "      <td>9.3</td>\n",
       "    </tr>\n",
       "    <tr>\n",
       "      <th>3</th>\n",
       "      <td>4</td>\n",
       "      <td>151.5</td>\n",
       "      <td>41.3</td>\n",
       "      <td>58.5</td>\n",
       "      <td>18.5</td>\n",
       "    </tr>\n",
       "    <tr>\n",
       "      <th>4</th>\n",
       "      <td>5</td>\n",
       "      <td>180.8</td>\n",
       "      <td>10.8</td>\n",
       "      <td>58.4</td>\n",
       "      <td>12.9</td>\n",
       "    </tr>\n",
       "    <tr>\n",
       "      <th>...</th>\n",
       "      <td>...</td>\n",
       "      <td>...</td>\n",
       "      <td>...</td>\n",
       "      <td>...</td>\n",
       "      <td>...</td>\n",
       "    </tr>\n",
       "    <tr>\n",
       "      <th>195</th>\n",
       "      <td>196</td>\n",
       "      <td>38.2</td>\n",
       "      <td>3.7</td>\n",
       "      <td>13.8</td>\n",
       "      <td>7.6</td>\n",
       "    </tr>\n",
       "    <tr>\n",
       "      <th>196</th>\n",
       "      <td>197</td>\n",
       "      <td>94.2</td>\n",
       "      <td>4.9</td>\n",
       "      <td>8.1</td>\n",
       "      <td>9.7</td>\n",
       "    </tr>\n",
       "    <tr>\n",
       "      <th>197</th>\n",
       "      <td>198</td>\n",
       "      <td>177.0</td>\n",
       "      <td>9.3</td>\n",
       "      <td>6.4</td>\n",
       "      <td>12.8</td>\n",
       "    </tr>\n",
       "    <tr>\n",
       "      <th>198</th>\n",
       "      <td>199</td>\n",
       "      <td>283.6</td>\n",
       "      <td>42.0</td>\n",
       "      <td>66.2</td>\n",
       "      <td>25.5</td>\n",
       "    </tr>\n",
       "    <tr>\n",
       "      <th>199</th>\n",
       "      <td>200</td>\n",
       "      <td>232.1</td>\n",
       "      <td>8.6</td>\n",
       "      <td>8.7</td>\n",
       "      <td>13.4</td>\n",
       "    </tr>\n",
       "  </tbody>\n",
       "</table>\n",
       "<p>200 rows × 5 columns</p>\n",
       "</div>"
      ],
      "text/plain": [
       "     Unnamed: 0     TV  radio  newspaper  sales\n",
       "0             1  230.1   37.8       69.2   22.1\n",
       "1             2   44.5   39.3       45.1   10.4\n",
       "2             3   17.2   45.9       69.3    9.3\n",
       "3             4  151.5   41.3       58.5   18.5\n",
       "4             5  180.8   10.8       58.4   12.9\n",
       "..          ...    ...    ...        ...    ...\n",
       "195         196   38.2    3.7       13.8    7.6\n",
       "196         197   94.2    4.9        8.1    9.7\n",
       "197         198  177.0    9.3        6.4   12.8\n",
       "198         199  283.6   42.0       66.2   25.5\n",
       "199         200  232.1    8.6        8.7   13.4\n",
       "\n",
       "[200 rows x 5 columns]"
      ]
     },
     "execution_count": 3,
     "metadata": {},
     "output_type": "execute_result"
    }
   ],
   "source": [
    "df"
   ]
  },
  {
   "cell_type": "markdown",
   "id": "b6dfbcb5",
   "metadata": {},
   "source": [
    "In this we can see that as per our problem statement \"sales\" column is our continuous target variable hence we will use regression analysis to predict the values."
   ]
  },
  {
   "cell_type": "markdown",
   "id": "76f49d1d",
   "metadata": {},
   "source": [
    "The other columns become our independant variables. We can see that \"Unnamed: 0\" column is just a serial number for the different values. Hence we can remove it."
   ]
  },
  {
   "cell_type": "code",
   "execution_count": 5,
   "id": "f4358515",
   "metadata": {},
   "outputs": [
    {
     "data": {
      "text/html": [
       "<div>\n",
       "<style scoped>\n",
       "    .dataframe tbody tr th:only-of-type {\n",
       "        vertical-align: middle;\n",
       "    }\n",
       "\n",
       "    .dataframe tbody tr th {\n",
       "        vertical-align: top;\n",
       "    }\n",
       "\n",
       "    .dataframe thead th {\n",
       "        text-align: right;\n",
       "    }\n",
       "</style>\n",
       "<table border=\"1\" class=\"dataframe\">\n",
       "  <thead>\n",
       "    <tr style=\"text-align: right;\">\n",
       "      <th></th>\n",
       "      <th>Unnamed: 0</th>\n",
       "      <th>TV</th>\n",
       "      <th>radio</th>\n",
       "      <th>newspaper</th>\n",
       "      <th>sales</th>\n",
       "    </tr>\n",
       "  </thead>\n",
       "  <tbody>\n",
       "    <tr>\n",
       "      <th>0</th>\n",
       "      <td>1</td>\n",
       "      <td>230.1</td>\n",
       "      <td>37.8</td>\n",
       "      <td>69.2</td>\n",
       "      <td>22.1</td>\n",
       "    </tr>\n",
       "    <tr>\n",
       "      <th>1</th>\n",
       "      <td>2</td>\n",
       "      <td>44.5</td>\n",
       "      <td>39.3</td>\n",
       "      <td>45.1</td>\n",
       "      <td>10.4</td>\n",
       "    </tr>\n",
       "    <tr>\n",
       "      <th>2</th>\n",
       "      <td>3</td>\n",
       "      <td>17.2</td>\n",
       "      <td>45.9</td>\n",
       "      <td>69.3</td>\n",
       "      <td>9.3</td>\n",
       "    </tr>\n",
       "  </tbody>\n",
       "</table>\n",
       "</div>"
      ],
      "text/plain": [
       "   Unnamed: 0     TV  radio  newspaper  sales\n",
       "0           1  230.1   37.8       69.2   22.1\n",
       "1           2   44.5   39.3       45.1   10.4\n",
       "2           3   17.2   45.9       69.3    9.3"
      ]
     },
     "execution_count": 5,
     "metadata": {},
     "output_type": "execute_result"
    }
   ],
   "source": [
    "df.head(3)"
   ]
  },
  {
   "cell_type": "code",
   "execution_count": 6,
   "id": "f811a463",
   "metadata": {},
   "outputs": [
    {
     "data": {
      "text/html": [
       "<div>\n",
       "<style scoped>\n",
       "    .dataframe tbody tr th:only-of-type {\n",
       "        vertical-align: middle;\n",
       "    }\n",
       "\n",
       "    .dataframe tbody tr th {\n",
       "        vertical-align: top;\n",
       "    }\n",
       "\n",
       "    .dataframe thead th {\n",
       "        text-align: right;\n",
       "    }\n",
       "</style>\n",
       "<table border=\"1\" class=\"dataframe\">\n",
       "  <thead>\n",
       "    <tr style=\"text-align: right;\">\n",
       "      <th></th>\n",
       "      <th>Unnamed: 0</th>\n",
       "      <th>TV</th>\n",
       "      <th>radio</th>\n",
       "      <th>newspaper</th>\n",
       "      <th>sales</th>\n",
       "    </tr>\n",
       "  </thead>\n",
       "  <tbody>\n",
       "    <tr>\n",
       "      <th>80</th>\n",
       "      <td>81</td>\n",
       "      <td>76.4</td>\n",
       "      <td>26.7</td>\n",
       "      <td>22.3</td>\n",
       "      <td>11.8</td>\n",
       "    </tr>\n",
       "    <tr>\n",
       "      <th>49</th>\n",
       "      <td>50</td>\n",
       "      <td>66.9</td>\n",
       "      <td>11.7</td>\n",
       "      <td>36.8</td>\n",
       "      <td>9.7</td>\n",
       "    </tr>\n",
       "    <tr>\n",
       "      <th>115</th>\n",
       "      <td>116</td>\n",
       "      <td>75.1</td>\n",
       "      <td>35.0</td>\n",
       "      <td>52.7</td>\n",
       "      <td>12.6</td>\n",
       "    </tr>\n",
       "  </tbody>\n",
       "</table>\n",
       "</div>"
      ],
      "text/plain": [
       "     Unnamed: 0    TV  radio  newspaper  sales\n",
       "80           81  76.4   26.7       22.3   11.8\n",
       "49           50  66.9   11.7       36.8    9.7\n",
       "115         116  75.1   35.0       52.7   12.6"
      ]
     },
     "execution_count": 6,
     "metadata": {},
     "output_type": "execute_result"
    }
   ],
   "source": [
    "df.sample(3)"
   ]
  },
  {
   "cell_type": "code",
   "execution_count": 7,
   "id": "af1e1f79",
   "metadata": {},
   "outputs": [
    {
     "data": {
      "text/html": [
       "<div>\n",
       "<style scoped>\n",
       "    .dataframe tbody tr th:only-of-type {\n",
       "        vertical-align: middle;\n",
       "    }\n",
       "\n",
       "    .dataframe tbody tr th {\n",
       "        vertical-align: top;\n",
       "    }\n",
       "\n",
       "    .dataframe thead th {\n",
       "        text-align: right;\n",
       "    }\n",
       "</style>\n",
       "<table border=\"1\" class=\"dataframe\">\n",
       "  <thead>\n",
       "    <tr style=\"text-align: right;\">\n",
       "      <th></th>\n",
       "      <th>Unnamed: 0</th>\n",
       "      <th>TV</th>\n",
       "      <th>radio</th>\n",
       "      <th>newspaper</th>\n",
       "      <th>sales</th>\n",
       "    </tr>\n",
       "  </thead>\n",
       "  <tbody>\n",
       "    <tr>\n",
       "      <th>197</th>\n",
       "      <td>198</td>\n",
       "      <td>177.0</td>\n",
       "      <td>9.3</td>\n",
       "      <td>6.4</td>\n",
       "      <td>12.8</td>\n",
       "    </tr>\n",
       "    <tr>\n",
       "      <th>198</th>\n",
       "      <td>199</td>\n",
       "      <td>283.6</td>\n",
       "      <td>42.0</td>\n",
       "      <td>66.2</td>\n",
       "      <td>25.5</td>\n",
       "    </tr>\n",
       "    <tr>\n",
       "      <th>199</th>\n",
       "      <td>200</td>\n",
       "      <td>232.1</td>\n",
       "      <td>8.6</td>\n",
       "      <td>8.7</td>\n",
       "      <td>13.4</td>\n",
       "    </tr>\n",
       "  </tbody>\n",
       "</table>\n",
       "</div>"
      ],
      "text/plain": [
       "     Unnamed: 0     TV  radio  newspaper  sales\n",
       "197         198  177.0    9.3        6.4   12.8\n",
       "198         199  283.6   42.0       66.2   25.5\n",
       "199         200  232.1    8.6        8.7   13.4"
      ]
     },
     "execution_count": 7,
     "metadata": {},
     "output_type": "execute_result"
    }
   ],
   "source": [
    "df.tail(3)"
   ]
  },
  {
   "cell_type": "code",
   "execution_count": 8,
   "id": "b07291df",
   "metadata": {},
   "outputs": [
    {
     "data": {
      "text/plain": [
       "Unnamed: 0      int64\n",
       "TV            float64\n",
       "radio         float64\n",
       "newspaper     float64\n",
       "sales         float64\n",
       "dtype: object"
      ]
     },
     "execution_count": 8,
     "metadata": {},
     "output_type": "execute_result"
    }
   ],
   "source": [
    "df.dtypes"
   ]
  },
  {
   "cell_type": "code",
   "execution_count": 9,
   "id": "1d014a10",
   "metadata": {},
   "outputs": [
    {
     "data": {
      "text/plain": [
       "(200, 5)"
      ]
     },
     "execution_count": 9,
     "metadata": {},
     "output_type": "execute_result"
    }
   ],
   "source": [
    "df.shape"
   ]
  },
  {
   "cell_type": "code",
   "execution_count": 10,
   "id": "0e055312",
   "metadata": {},
   "outputs": [
    {
     "data": {
      "text/plain": [
       "Index(['Unnamed: 0', 'TV', 'radio', 'newspaper', 'sales'], dtype='object')"
      ]
     },
     "execution_count": 10,
     "metadata": {},
     "output_type": "execute_result"
    }
   ],
   "source": [
    "df.columns"
   ]
  },
  {
   "cell_type": "code",
   "execution_count": 11,
   "id": "5b629a05",
   "metadata": {},
   "outputs": [
    {
     "name": "stdout",
     "output_type": "stream",
     "text": [
      "<class 'pandas.core.frame.DataFrame'>\n",
      "RangeIndex: 200 entries, 0 to 199\n",
      "Data columns (total 5 columns):\n",
      " #   Column      Non-Null Count  Dtype  \n",
      "---  ------      --------------  -----  \n",
      " 0   Unnamed: 0  200 non-null    int64  \n",
      " 1   TV          200 non-null    float64\n",
      " 2   radio       200 non-null    float64\n",
      " 3   newspaper   200 non-null    float64\n",
      " 4   sales       200 non-null    float64\n",
      "dtypes: float64(4), int64(1)\n",
      "memory usage: 7.9 KB\n"
     ]
    }
   ],
   "source": [
    "df.info()"
   ]
  },
  {
   "cell_type": "markdown",
   "id": "9367dedd",
   "metadata": {},
   "source": [
    "the 3 independant variables are in float data type."
   ]
  },
  {
   "cell_type": "markdown",
   "id": "dcb3b963",
   "metadata": {},
   "source": [
    "# Exploratory Data Analysis (EDA)"
   ]
  },
  {
   "cell_type": "markdown",
   "id": "99bd2a1c",
   "metadata": {},
   "source": [
    "### checking for missing values"
   ]
  },
  {
   "cell_type": "code",
   "execution_count": 4,
   "id": "b1cb025e",
   "metadata": {},
   "outputs": [
    {
     "data": {
      "text/plain": [
       "Unnamed: 0    0\n",
       "TV            0\n",
       "radio         0\n",
       "newspaper     0\n",
       "sales         0\n",
       "dtype: int64"
      ]
     },
     "execution_count": 4,
     "metadata": {},
     "output_type": "execute_result"
    }
   ],
   "source": [
    "df.isnull().sum()"
   ]
  },
  {
   "cell_type": "code",
   "execution_count": 12,
   "id": "aaa61ce5",
   "metadata": {},
   "outputs": [
    {
     "data": {
      "text/plain": [
       "<AxesSubplot:>"
      ]
     },
     "execution_count": 12,
     "metadata": {},
     "output_type": "execute_result"
    },
    {
     "data": {
      "image/png": "[encoded data removed]",
      "text/plain": [
       "<Figure size 432x288 with 2 Axes>"
      ]
     },
     "metadata": {
      "needs_background": "light"
     },
     "output_type": "display_data"
    }
   ],
   "source": [
    "sns.heatmap(df.isnull())"
   ]
  },
  {
   "cell_type": "markdown",
   "id": "96a3416f",
   "metadata": {},
   "source": [
    "Observations :\n",
    "\n",
    "-There is no missing data in the data set"
   ]
  },
  {
   "cell_type": "markdown",
   "id": "ff14eb72",
   "metadata": {},
   "source": [
    "## Statistical Summary"
   ]
  },
  {
   "cell_type": "code",
   "execution_count": 24,
   "id": "9081db1e",
   "metadata": {},
   "outputs": [
    {
     "data": {
      "text/html": [
       "<div>\n",
       "<style scoped>\n",
       "    .dataframe tbody tr th:only-of-type {\n",
       "        vertical-align: middle;\n",
       "    }\n",
       "\n",
       "    .dataframe tbody tr th {\n",
       "        vertical-align: top;\n",
       "    }\n",
       "\n",
       "    .dataframe thead th {\n",
       "        text-align: right;\n",
       "    }\n",
       "</style>\n",
       "<table border=\"1\" class=\"dataframe\">\n",
       "  <thead>\n",
       "    <tr style=\"text-align: right;\">\n",
       "      <th></th>\n",
       "      <th>Unnamed: 0</th>\n",
       "      <th>TV</th>\n",
       "      <th>radio</th>\n",
       "      <th>newspaper</th>\n",
       "      <th>sales</th>\n",
       "    </tr>\n",
       "  </thead>\n",
       "  <tbody>\n",
       "    <tr>\n",
       "      <th>count</th>\n",
       "      <td>200.000000</td>\n",
       "      <td>200.000000</td>\n",
       "      <td>200.000000</td>\n",
       "      <td>200.000000</td>\n",
       "      <td>200.000000</td>\n",
       "    </tr>\n",
       "    <tr>\n",
       "      <th>mean</th>\n",
       "      <td>100.500000</td>\n",
       "      <td>147.042500</td>\n",
       "      <td>23.264000</td>\n",
       "      <td>30.554000</td>\n",
       "      <td>14.022500</td>\n",
       "    </tr>\n",
       "    <tr>\n",
       "      <th>std</th>\n",
       "      <td>57.879185</td>\n",
       "      <td>85.854236</td>\n",
       "      <td>14.846809</td>\n",
       "      <td>21.778621</td>\n",
       "      <td>5.217457</td>\n",
       "    </tr>\n",
       "    <tr>\n",
       "      <th>min</th>\n",
       "      <td>1.000000</td>\n",
       "      <td>0.700000</td>\n",
       "      <td>0.000000</td>\n",
       "      <td>0.300000</td>\n",
       "      <td>1.600000</td>\n",
       "    </tr>\n",
       "    <tr>\n",
       "      <th>25%</th>\n",
       "      <td>50.750000</td>\n",
       "      <td>74.375000</td>\n",
       "      <td>9.975000</td>\n",
       "      <td>12.750000</td>\n",
       "      <td>10.375000</td>\n",
       "    </tr>\n",
       "    <tr>\n",
       "      <th>50%</th>\n",
       "      <td>100.500000</td>\n",
       "      <td>149.750000</td>\n",
       "      <td>22.900000</td>\n",
       "      <td>25.750000</td>\n",
       "      <td>12.900000</td>\n",
       "    </tr>\n",
       "    <tr>\n",
       "      <th>75%</th>\n",
       "      <td>150.250000</td>\n",
       "      <td>218.825000</td>\n",
       "      <td>36.525000</td>\n",
       "      <td>45.100000</td>\n",
       "      <td>17.400000</td>\n",
       "    </tr>\n",
       "    <tr>\n",
       "      <th>max</th>\n",
       "      <td>200.000000</td>\n",
       "      <td>296.400000</td>\n",
       "      <td>49.600000</td>\n",
       "      <td>114.000000</td>\n",
       "      <td>27.000000</td>\n",
       "    </tr>\n",
       "  </tbody>\n",
       "</table>\n",
       "</div>"
      ],
      "text/plain": [
       "       Unnamed: 0          TV       radio   newspaper       sales\n",
       "count  200.000000  200.000000  200.000000  200.000000  200.000000\n",
       "mean   100.500000  147.042500   23.264000   30.554000   14.022500\n",
       "std     57.879185   85.854236   14.846809   21.778621    5.217457\n",
       "min      1.000000    0.700000    0.000000    0.300000    1.600000\n",
       "25%     50.750000   74.375000    9.975000   12.750000   10.375000\n",
       "50%    100.500000  149.750000   22.900000   25.750000   12.900000\n",
       "75%    150.250000  218.825000   36.525000   45.100000   17.400000\n",
       "max    200.000000  296.400000   49.600000  114.000000   27.000000"
      ]
     },
     "execution_count": 24,
     "metadata": {},
     "output_type": "execute_result"
    }
   ],
   "source": [
    "df.describe()"
   ]
  },
  {
   "cell_type": "markdown",
   "id": "968d9e79",
   "metadata": {},
   "source": [
    "observations:\n",
    "    \n",
    "We can see that \"Unnamed: 0\" column is just a serial number for the different values. Hence we can remove it.\n",
    "\n",
    "we can see that the \"TV\" and \"radio\" have reasonable differences between their quantiles and only \"newspaper\" column has a huge difference between 75% and max value indicating outliers."
   ]
  },
  {
   "cell_type": "markdown",
   "id": "5cbd8090",
   "metadata": {},
   "source": [
    "## dropping a column"
   ]
  },
  {
   "cell_type": "code",
   "execution_count": 25,
   "id": "4056933c",
   "metadata": {},
   "outputs": [],
   "source": [
    "df = df.drop(\"Unnamed: 0\",axis=1)"
   ]
  },
  {
   "cell_type": "code",
   "execution_count": 26,
   "id": "5e4c8ca0",
   "metadata": {},
   "outputs": [
    {
     "data": {
      "text/html": [
       "<div>\n",
       "<style scoped>\n",
       "    .dataframe tbody tr th:only-of-type {\n",
       "        vertical-align: middle;\n",
       "    }\n",
       "\n",
       "    .dataframe tbody tr th {\n",
       "        vertical-align: top;\n",
       "    }\n",
       "\n",
       "    .dataframe thead th {\n",
       "        text-align: right;\n",
       "    }\n",
       "</style>\n",
       "<table border=\"1\" class=\"dataframe\">\n",
       "  <thead>\n",
       "    <tr style=\"text-align: right;\">\n",
       "      <th></th>\n",
       "      <th>TV</th>\n",
       "      <th>radio</th>\n",
       "      <th>newspaper</th>\n",
       "      <th>sales</th>\n",
       "    </tr>\n",
       "  </thead>\n",
       "  <tbody>\n",
       "    <tr>\n",
       "      <th>0</th>\n",
       "      <td>230.1</td>\n",
       "      <td>37.8</td>\n",
       "      <td>69.2</td>\n",
       "      <td>22.1</td>\n",
       "    </tr>\n",
       "    <tr>\n",
       "      <th>1</th>\n",
       "      <td>44.5</td>\n",
       "      <td>39.3</td>\n",
       "      <td>45.1</td>\n",
       "      <td>10.4</td>\n",
       "    </tr>\n",
       "    <tr>\n",
       "      <th>2</th>\n",
       "      <td>17.2</td>\n",
       "      <td>45.9</td>\n",
       "      <td>69.3</td>\n",
       "      <td>9.3</td>\n",
       "    </tr>\n",
       "    <tr>\n",
       "      <th>3</th>\n",
       "      <td>151.5</td>\n",
       "      <td>41.3</td>\n",
       "      <td>58.5</td>\n",
       "      <td>18.5</td>\n",
       "    </tr>\n",
       "    <tr>\n",
       "      <th>4</th>\n",
       "      <td>180.8</td>\n",
       "      <td>10.8</td>\n",
       "      <td>58.4</td>\n",
       "      <td>12.9</td>\n",
       "    </tr>\n",
       "    <tr>\n",
       "      <th>...</th>\n",
       "      <td>...</td>\n",
       "      <td>...</td>\n",
       "      <td>...</td>\n",
       "      <td>...</td>\n",
       "    </tr>\n",
       "    <tr>\n",
       "      <th>195</th>\n",
       "      <td>38.2</td>\n",
       "      <td>3.7</td>\n",
       "      <td>13.8</td>\n",
       "      <td>7.6</td>\n",
       "    </tr>\n",
       "    <tr>\n",
       "      <th>196</th>\n",
       "      <td>94.2</td>\n",
       "      <td>4.9</td>\n",
       "      <td>8.1</td>\n",
       "      <td>9.7</td>\n",
       "    </tr>\n",
       "    <tr>\n",
       "      <th>197</th>\n",
       "      <td>177.0</td>\n",
       "      <td>9.3</td>\n",
       "      <td>6.4</td>\n",
       "      <td>12.8</td>\n",
       "    </tr>\n",
       "    <tr>\n",
       "      <th>198</th>\n",
       "      <td>283.6</td>\n",
       "      <td>42.0</td>\n",
       "      <td>66.2</td>\n",
       "      <td>25.5</td>\n",
       "    </tr>\n",
       "    <tr>\n",
       "      <th>199</th>\n",
       "      <td>232.1</td>\n",
       "      <td>8.6</td>\n",
       "      <td>8.7</td>\n",
       "      <td>13.4</td>\n",
       "    </tr>\n",
       "  </tbody>\n",
       "</table>\n",
       "<p>200 rows × 4 columns</p>\n",
       "</div>"
      ],
      "text/plain": [
       "        TV  radio  newspaper  sales\n",
       "0    230.1   37.8       69.2   22.1\n",
       "1     44.5   39.3       45.1   10.4\n",
       "2     17.2   45.9       69.3    9.3\n",
       "3    151.5   41.3       58.5   18.5\n",
       "4    180.8   10.8       58.4   12.9\n",
       "..     ...    ...        ...    ...\n",
       "195   38.2    3.7       13.8    7.6\n",
       "196   94.2    4.9        8.1    9.7\n",
       "197  177.0    9.3        6.4   12.8\n",
       "198  283.6   42.0       66.2   25.5\n",
       "199  232.1    8.6        8.7   13.4\n",
       "\n",
       "[200 rows x 4 columns]"
      ]
     },
     "execution_count": 26,
     "metadata": {},
     "output_type": "execute_result"
    }
   ],
   "source": [
    "df"
   ]
  },
  {
   "cell_type": "markdown",
   "id": "a8d26682",
   "metadata": {},
   "source": [
    "we have dropped \"Unnamed: 0\" column."
   ]
  },
  {
   "cell_type": "markdown",
   "id": "d19f6efb",
   "metadata": {},
   "source": [
    "## Data Visualization"
   ]
  },
  {
   "cell_type": "markdown",
   "id": "0fd9a9c8",
   "metadata": {},
   "source": [
    "### Scatter plot:"
   ]
  },
  {
   "cell_type": "code",
   "execution_count": 27,
   "id": "f0cfdf6c",
   "metadata": {},
   "outputs": [
    {
     "data": {
      "text/plain": [
       "<seaborn.axisgrid.PairGrid at 0x11945533c40>"
      ]
     },
     "execution_count": 27,
     "metadata": {},
     "output_type": "execute_result"
    },
    {
     "data": {
      "image/png": "[encoded data removed]",
      "text/plain": [
       "<Figure size 720x720 with 20 Axes>"
      ]
     },
     "metadata": {
      "needs_background": "light"
     },
     "output_type": "display_data"
    }
   ],
   "source": [
    "sns.pairplot(df)"
   ]
  },
  {
   "cell_type": "code",
   "execution_count": 28,
   "id": "fc43ddf4",
   "metadata": {},
   "outputs": [
    {
     "data": {
      "text/plain": [
       "<AxesSubplot:xlabel='sales', ylabel='TV'>"
      ]
     },
     "execution_count": 28,
     "metadata": {},
     "output_type": "execute_result"
    },
    {
     "data": {
      "image/png": "[encoded data removed]",
      "text/plain": [
       "<Figure size 432x288 with 1 Axes>"
      ]
     },
     "metadata": {
      "needs_background": "light"
     },
     "output_type": "display_data"
    }
   ],
   "source": [
    "sns.scatterplot(x='sales',y='TV',data=df)"
   ]
  },
  {
   "cell_type": "code",
   "execution_count": 29,
   "id": "7857ae9a",
   "metadata": {},
   "outputs": [
    {
     "data": {
      "text/plain": [
       "<AxesSubplot:xlabel='sales', ylabel='radio'>"
      ]
     },
     "execution_count": 29,
     "metadata": {},
     "output_type": "execute_result"
    },
    {
     "data": {
      "image/png": "[encoded data removed]",
      "text/plain": [
       "<Figure size 432x288 with 1 Axes>"
      ]
     },
     "metadata": {
      "needs_background": "light"
     },
     "output_type": "display_data"
    }
   ],
   "source": [
    "sns.scatterplot(x='sales',y='radio',data=df)"
   ]
  },
  {
   "cell_type": "code",
   "execution_count": 30,
   "id": "df1f98e0",
   "metadata": {},
   "outputs": [
    {
     "data": {
      "text/plain": [
       "<AxesSubplot:xlabel='sales', ylabel='newspaper'>"
      ]
     },
     "execution_count": 30,
     "metadata": {},
     "output_type": "execute_result"
    },
    {
     "data": {
      "image/png": "[encoded data removed]",
      "text/plain": [
       "<Figure size 432x288 with 1 Axes>"
      ]
     },
     "metadata": {
      "needs_background": "light"
     },
     "output_type": "display_data"
    }
   ],
   "source": [
    "sns.scatterplot(x='sales',y='newspaper',data=df)"
   ]
  },
  {
   "cell_type": "markdown",
   "id": "2e5d85e9",
   "metadata": {},
   "source": [
    "Observations:\n",
    "    \n",
    "From the above scatter plot we can see that the \"TV\" and \"radio\" columns have a positive linear relationship with sales.\n",
    "\n",
    "whereas in newspaper column the relationship is scattered although as sales increase the newspaper value increases too but no exact linear relationship"
   ]
  },
  {
   "cell_type": "markdown",
   "id": "c555c545",
   "metadata": {},
   "source": [
    "### Relational Plots"
   ]
  },
  {
   "cell_type": "code",
   "execution_count": 33,
   "id": "b4692ad8",
   "metadata": {},
   "outputs": [
    {
     "data": {
      "text/plain": [
       "<seaborn.axisgrid.FacetGrid at 0x11946383cd0>"
      ]
     },
     "execution_count": 33,
     "metadata": {},
     "output_type": "execute_result"
    },
    {
     "data": {
      "image/png": "[encoded data removed]",
      "text/plain": [
       "<Figure size 360x360 with 1 Axes>"
      ]
     },
     "metadata": {
      "needs_background": "light"
     },
     "output_type": "display_data"
    }
   ],
   "source": [
    "sns.relplot(x=\"TV\",y=\"sales\",kind=\"line\",data=df)"
   ]
  },
  {
   "cell_type": "code",
   "execution_count": 34,
   "id": "f4538ce5",
   "metadata": {},
   "outputs": [
    {
     "data": {
      "text/plain": [
       "<seaborn.axisgrid.FacetGrid at 0x1194557a6a0>"
      ]
     },
     "execution_count": 34,
     "metadata": {},
     "output_type": "execute_result"
    },
    {
     "data": {
      "image/png": "[encoded data removed]",
      "text/plain": [
       "<Figure size 360x360 with 1 Axes>"
      ]
     },
     "metadata": {
      "needs_background": "light"
     },
     "output_type": "display_data"
    }
   ],
   "source": [
    "sns.relplot(x=\"radio\",y=\"sales\",kind=\"line\",data=df)"
   ]
  },
  {
   "cell_type": "code",
   "execution_count": 35,
   "id": "d113d31f",
   "metadata": {},
   "outputs": [
    {
     "data": {
      "text/plain": [
       "<seaborn.axisgrid.FacetGrid at 0x1194642d4f0>"
      ]
     },
     "execution_count": 35,
     "metadata": {},
     "output_type": "execute_result"
    },
    {
     "data": {
      "image/png": "[encoded data removed]",
      "text/plain": [
       "<Figure size 360x360 with 1 Axes>"
      ]
     },
     "metadata": {
      "needs_background": "light"
     },
     "output_type": "display_data"
    }
   ],
   "source": [
    "sns.relplot(x=\"newspaper\",y=\"sales\",kind=\"line\",data=df)"
   ]
  },
  {
   "cell_type": "markdown",
   "id": "0a027d25",
   "metadata": {},
   "source": [
    "Observations:\n",
    "    \n",
    "From the above relational plots we can see that:\n",
    "\n",
    "TV vs sales has a positive pattern hence it gives a dominant role in the sales.\n",
    "\n",
    "radio vs sales is contributing towards sales but is not dominating.\n",
    "\n",
    "newspaper vs sales we can see a random trend and also looks like it has outliers"
   ]
  },
  {
   "cell_type": "markdown",
   "id": "f78341e9",
   "metadata": {},
   "source": [
    "## Correlation check:"
   ]
  },
  {
   "cell_type": "code",
   "execution_count": 36,
   "id": "b3fc3880",
   "metadata": {},
   "outputs": [
    {
     "data": {
      "text/html": [
       "<div>\n",
       "<style scoped>\n",
       "    .dataframe tbody tr th:only-of-type {\n",
       "        vertical-align: middle;\n",
       "    }\n",
       "\n",
       "    .dataframe tbody tr th {\n",
       "        vertical-align: top;\n",
       "    }\n",
       "\n",
       "    .dataframe thead th {\n",
       "        text-align: right;\n",
       "    }\n",
       "</style>\n",
       "<table border=\"1\" class=\"dataframe\">\n",
       "  <thead>\n",
       "    <tr style=\"text-align: right;\">\n",
       "      <th></th>\n",
       "      <th>TV</th>\n",
       "      <th>radio</th>\n",
       "      <th>newspaper</th>\n",
       "      <th>sales</th>\n",
       "    </tr>\n",
       "  </thead>\n",
       "  <tbody>\n",
       "    <tr>\n",
       "      <th>TV</th>\n",
       "      <td>1.000000</td>\n",
       "      <td>0.054809</td>\n",
       "      <td>0.056648</td>\n",
       "      <td>0.782224</td>\n",
       "    </tr>\n",
       "    <tr>\n",
       "      <th>radio</th>\n",
       "      <td>0.054809</td>\n",
       "      <td>1.000000</td>\n",
       "      <td>0.354104</td>\n",
       "      <td>0.576223</td>\n",
       "    </tr>\n",
       "    <tr>\n",
       "      <th>newspaper</th>\n",
       "      <td>0.056648</td>\n",
       "      <td>0.354104</td>\n",
       "      <td>1.000000</td>\n",
       "      <td>0.228299</td>\n",
       "    </tr>\n",
       "    <tr>\n",
       "      <th>sales</th>\n",
       "      <td>0.782224</td>\n",
       "      <td>0.576223</td>\n",
       "      <td>0.228299</td>\n",
       "      <td>1.000000</td>\n",
       "    </tr>\n",
       "  </tbody>\n",
       "</table>\n",
       "</div>"
      ],
      "text/plain": [
       "                 TV     radio  newspaper     sales\n",
       "TV         1.000000  0.054809   0.056648  0.782224\n",
       "radio      0.054809  1.000000   0.354104  0.576223\n",
       "newspaper  0.056648  0.354104   1.000000  0.228299\n",
       "sales      0.782224  0.576223   0.228299  1.000000"
      ]
     },
     "execution_count": 36,
     "metadata": {},
     "output_type": "execute_result"
    }
   ],
   "source": [
    "df.corr()"
   ]
  },
  {
   "cell_type": "code",
   "execution_count": 40,
   "id": "815faeb2",
   "metadata": {},
   "outputs": [
    {
     "data": {
      "text/plain": [
       "<AxesSubplot:>"
      ]
     },
     "execution_count": 40,
     "metadata": {},
     "output_type": "execute_result"
    },
    {
     "data": {
      "image/png": "[encoded data removed]",
      "text/plain": [
       "<Figure size 1080x504 with 2 Axes>"
      ]
     },
     "metadata": {
      "needs_background": "light"
     },
     "output_type": "display_data"
    }
   ],
   "source": [
    "plt.figure(figsize=(15,7))\n",
    "sns.heatmap(df.corr(), annot=True, linewidths=0.5, fmt='.3f')"
   ]
  },
  {
   "cell_type": "code",
   "execution_count": 41,
   "id": "23e6ba30",
   "metadata": {},
   "outputs": [
    {
     "data": {
      "text/plain": [
       "newspaper    0.228299\n",
       "radio        0.576223\n",
       "TV           0.782224\n",
       "sales        1.000000\n",
       "Name: sales, dtype: float64"
      ]
     },
     "execution_count": 41,
     "metadata": {},
     "output_type": "execute_result"
    }
   ],
   "source": [
    "df.corr().sales.sort_values()"
   ]
  },
  {
   "cell_type": "markdown",
   "id": "7bf799b4",
   "metadata": {},
   "source": [
    "Observations:\n",
    "    \n",
    "From the above we can see that there are no negative correlation present in between our independant and target variables.\n",
    "\n",
    "TV has the highest correlation with sales and newspaper has the lowest correlation."
   ]
  },
  {
   "cell_type": "markdown",
   "id": "cc270ca5",
   "metadata": {},
   "source": [
    "## Checking Outliers"
   ]
  },
  {
   "cell_type": "code",
   "execution_count": 42,
   "id": "cd170b8e",
   "metadata": {},
   "outputs": [
    {
     "data": {
      "text/plain": [
       "Index(['TV', 'radio', 'newspaper', 'sales'], dtype='object')"
      ]
     },
     "execution_count": 42,
     "metadata": {},
     "output_type": "execute_result"
    }
   ],
   "source": [
    "df.columns"
   ]
  },
  {
   "cell_type": "code",
   "execution_count": 45,
   "id": "2fb97fcf",
   "metadata": {},
   "outputs": [
    {
     "data": {
      "text/plain": [
       "TV              AxesSubplot(0.125,0.125;0.168478x0.755)\n",
       "radio        AxesSubplot(0.327174,0.125;0.168478x0.755)\n",
       "newspaper    AxesSubplot(0.529348,0.125;0.168478x0.755)\n",
       "sales        AxesSubplot(0.731522,0.125;0.168478x0.755)\n",
       "dtype: object"
      ]
     },
     "execution_count": 45,
     "metadata": {},
     "output_type": "execute_result"
    },
    {
     "data": {
      "image/png": "[encoded data removed]",
      "text/plain": [
       "<Figure size 720x576 with 4 Axes>"
      ]
     },
     "metadata": {
      "needs_background": "light"
     },
     "output_type": "display_data"
    }
   ],
   "source": [
    "df.plot(kind='box',subplots=True,layout=(1,4),figsize=(10,8))"
   ]
  },
  {
   "cell_type": "markdown",
   "id": "c5ae76f6",
   "metadata": {},
   "source": [
    "Observations:\n",
    "    \n",
    "From the above boxplots we can see that only the newspaper column has outliers"
   ]
  },
  {
   "cell_type": "markdown",
   "id": "85e75cc2",
   "metadata": {},
   "source": [
    "## Skewness Checking"
   ]
  },
  {
   "cell_type": "code",
   "execution_count": 46,
   "id": "ad1072d6",
   "metadata": {},
   "outputs": [
    {
     "data": {
      "text/plain": [
       "Index(['TV', 'radio', 'newspaper', 'sales'], dtype='object')"
      ]
     },
     "execution_count": 46,
     "metadata": {},
     "output_type": "execute_result"
    }
   ],
   "source": [
    "df.columns"
   ]
  },
  {
   "cell_type": "code",
   "execution_count": 47,
   "id": "92907523",
   "metadata": {},
   "outputs": [
    {
     "data": {
      "text/plain": [
       "<AxesSubplot:xlabel='TV', ylabel='Density'>"
      ]
     },
     "execution_count": 47,
     "metadata": {},
     "output_type": "execute_result"
    },
    {
     "data": {
      "image/png": "[encoded data removed]",
      "text/plain": [
       "<Figure size 432x288 with 1 Axes>"
      ]
     },
     "metadata": {
      "needs_background": "light"
     },
     "output_type": "display_data"
    }
   ],
   "source": [
    "sns.distplot(df['TV'])"
   ]
  },
  {
   "cell_type": "code",
   "execution_count": 48,
   "id": "6267522e",
   "metadata": {},
   "outputs": [
    {
     "data": {
      "text/plain": [
       "<AxesSubplot:xlabel='radio', ylabel='Density'>"
      ]
     },
     "execution_count": 48,
     "metadata": {},
     "output_type": "execute_result"
    },
    {
     "data": {
      "image/png": "[encoded data removed]",
      "text/plain": [
       "<Figure size 432x288 with 1 Axes>"
      ]
     },
     "metadata": {
      "needs_background": "light"
     },
     "output_type": "display_data"
    }
   ],
   "source": [
    "sns.distplot(df['radio'])"
   ]
  },
  {
   "cell_type": "code",
   "execution_count": 49,
   "id": "a8813dc9",
   "metadata": {},
   "outputs": [
    {
     "data": {
      "text/plain": [
       "<AxesSubplot:xlabel='newspaper', ylabel='Density'>"
      ]
     },
     "execution_count": 49,
     "metadata": {},
     "output_type": "execute_result"
    },
    {
     "data": {
      "image/png": "[encoded data removed]",
      "text/plain": [
       "<Figure size 432x288 with 1 Axes>"
      ]
     },
     "metadata": {
      "needs_background": "light"
     },
     "output_type": "display_data"
    }
   ],
   "source": [
    "sns.distplot(df['newspaper'])"
   ]
  },
  {
   "cell_type": "code",
   "execution_count": 50,
   "id": "edf508c1",
   "metadata": {},
   "outputs": [
    {
     "data": {
      "text/plain": [
       "<AxesSubplot:xlabel='sales', ylabel='Density'>"
      ]
     },
     "execution_count": 50,
     "metadata": {},
     "output_type": "execute_result"
    },
    {
     "data": {
      "image/png": "[encoded data removed]",
      "text/plain": [
       "<Figure size 432x288 with 1 Axes>"
      ]
     },
     "metadata": {
      "needs_background": "light"
     },
     "output_type": "display_data"
    }
   ],
   "source": [
    "sns.distplot(df['sales'])"
   ]
  },
  {
   "cell_type": "code",
   "execution_count": 51,
   "id": "f9bcf59e",
   "metadata": {},
   "outputs": [
    {
     "data": {
      "text/plain": [
       "TV          -0.069853\n",
       "radio        0.094175\n",
       "newspaper    0.894720\n",
       "sales        0.407571\n",
       "dtype: float64"
      ]
     },
     "execution_count": 51,
     "metadata": {},
     "output_type": "execute_result"
    }
   ],
   "source": [
    "df.skew()"
   ]
  },
  {
   "cell_type": "markdown",
   "id": "f1f4dfd8",
   "metadata": {},
   "source": [
    "Observations:\n",
    "    \n",
    "Looking at the above distribution plots we can see that 'TV', 'radio' and 'sales' have almost bell shaped curve\n",
    "\n",
    "only 'newspaper' column has visible skewness\n",
    "\n",
    "the skewness threshold is +/-0.5 hence the newspaper column is the only one column outside the threshold."
   ]
  },
  {
   "cell_type": "markdown",
   "id": "1ce55e7a",
   "metadata": {},
   "source": [
    "# Data Preprocessing"
   ]
  },
  {
   "cell_type": "markdown",
   "id": "88c77dbd",
   "metadata": {},
   "source": [
    "### Removing Outliers:"
   ]
  },
  {
   "cell_type": "code",
   "execution_count": 96,
   "id": "2143c132",
   "metadata": {},
   "outputs": [
    {
     "data": {
      "text/html": [
       "<div>\n",
       "<style scoped>\n",
       "    .dataframe tbody tr th:only-of-type {\n",
       "        vertical-align: middle;\n",
       "    }\n",
       "\n",
       "    .dataframe tbody tr th {\n",
       "        vertical-align: top;\n",
       "    }\n",
       "\n",
       "    .dataframe thead th {\n",
       "        text-align: right;\n",
       "    }\n",
       "</style>\n",
       "<table border=\"1\" class=\"dataframe\">\n",
       "  <thead>\n",
       "    <tr style=\"text-align: right;\">\n",
       "      <th></th>\n",
       "      <th>TV</th>\n",
       "      <th>radio</th>\n",
       "      <th>newspaper</th>\n",
       "      <th>sales</th>\n",
       "    </tr>\n",
       "  </thead>\n",
       "  <tbody>\n",
       "    <tr>\n",
       "      <th>0</th>\n",
       "      <td>0.969852</td>\n",
       "      <td>0.981522</td>\n",
       "      <td>1.778945</td>\n",
       "      <td>1.552053</td>\n",
       "    </tr>\n",
       "    <tr>\n",
       "      <th>1</th>\n",
       "      <td>1.197376</td>\n",
       "      <td>1.082808</td>\n",
       "      <td>0.669579</td>\n",
       "      <td>0.696046</td>\n",
       "    </tr>\n",
       "    <tr>\n",
       "      <th>2</th>\n",
       "      <td>1.516155</td>\n",
       "      <td>1.528463</td>\n",
       "      <td>1.783549</td>\n",
       "      <td>0.907406</td>\n",
       "    </tr>\n",
       "    <tr>\n",
       "      <th>3</th>\n",
       "      <td>0.052050</td>\n",
       "      <td>1.217855</td>\n",
       "      <td>1.286405</td>\n",
       "      <td>0.860330</td>\n",
       "    </tr>\n",
       "    <tr>\n",
       "      <th>4</th>\n",
       "      <td>0.394182</td>\n",
       "      <td>0.841614</td>\n",
       "      <td>1.281802</td>\n",
       "      <td>0.215683</td>\n",
       "    </tr>\n",
       "    <tr>\n",
       "      <th>...</th>\n",
       "      <td>...</td>\n",
       "      <td>...</td>\n",
       "      <td>...</td>\n",
       "      <td>...</td>\n",
       "    </tr>\n",
       "    <tr>\n",
       "      <th>195</th>\n",
       "      <td>1.270941</td>\n",
       "      <td>1.321031</td>\n",
       "      <td>0.771217</td>\n",
       "      <td>1.234053</td>\n",
       "    </tr>\n",
       "    <tr>\n",
       "      <th>196</th>\n",
       "      <td>0.617035</td>\n",
       "      <td>1.240003</td>\n",
       "      <td>1.033598</td>\n",
       "      <td>0.830548</td>\n",
       "    </tr>\n",
       "    <tr>\n",
       "      <th>197</th>\n",
       "      <td>0.349810</td>\n",
       "      <td>0.942899</td>\n",
       "      <td>1.111852</td>\n",
       "      <td>0.234898</td>\n",
       "    </tr>\n",
       "    <tr>\n",
       "      <th>198</th>\n",
       "      <td>1.594565</td>\n",
       "      <td>1.265121</td>\n",
       "      <td>1.640850</td>\n",
       "      <td>2.205347</td>\n",
       "    </tr>\n",
       "    <tr>\n",
       "      <th>199</th>\n",
       "      <td>0.993206</td>\n",
       "      <td>0.990165</td>\n",
       "      <td>1.005979</td>\n",
       "      <td>0.119610</td>\n",
       "    </tr>\n",
       "  </tbody>\n",
       "</table>\n",
       "<p>200 rows × 4 columns</p>\n",
       "</div>"
      ],
      "text/plain": [
       "           TV     radio  newspaper     sales\n",
       "0    0.969852  0.981522   1.778945  1.552053\n",
       "1    1.197376  1.082808   0.669579  0.696046\n",
       "2    1.516155  1.528463   1.783549  0.907406\n",
       "3    0.052050  1.217855   1.286405  0.860330\n",
       "4    0.394182  0.841614   1.281802  0.215683\n",
       "..        ...       ...        ...       ...\n",
       "195  1.270941  1.321031   0.771217  1.234053\n",
       "196  0.617035  1.240003   1.033598  0.830548\n",
       "197  0.349810  0.942899   1.111852  0.234898\n",
       "198  1.594565  1.265121   1.640850  2.205347\n",
       "199  0.993206  0.990165   1.005979  0.119610\n",
       "\n",
       "[200 rows x 4 columns]"
      ]
     },
     "execution_count": 96,
     "metadata": {},
     "output_type": "execute_result"
    }
   ],
   "source": [
    "from scipy.stats import zscore\n",
    "z=np.abs(zscore(df))\n",
    "z"
   ]
  },
  {
   "cell_type": "code",
   "execution_count": 97,
   "id": "1416c835",
   "metadata": {},
   "outputs": [
    {
     "name": "stdout",
     "output_type": "stream",
     "text": [
      "(array([ 16, 101], dtype=int64), array([2, 2], dtype=int64))\n"
     ]
    }
   ],
   "source": [
    "threshold = 3\n",
    "print(np.where(z>3))"
   ]
  },
  {
   "cell_type": "code",
   "execution_count": 98,
   "id": "418544cd",
   "metadata": {},
   "outputs": [
    {
     "data": {
      "text/plain": [
       "3.8411707150992718"
      ]
     },
     "execution_count": 98,
     "metadata": {},
     "output_type": "execute_result"
    }
   ],
   "source": [
    "#row and column\n",
    "z.iloc[16,2]"
   ]
  },
  {
   "cell_type": "code",
   "execution_count": 99,
   "id": "714912cf",
   "metadata": {},
   "outputs": [
    {
     "data": {
      "text/plain": [
       "3.238153957342154"
      ]
     },
     "execution_count": 99,
     "metadata": {},
     "output_type": "execute_result"
    }
   ],
   "source": [
    "z.iloc[101,2]"
   ]
  },
  {
   "cell_type": "code",
   "execution_count": 100,
   "id": "9ad55910",
   "metadata": {},
   "outputs": [
    {
     "data": {
      "text/plain": [
       "(200, 4)"
      ]
     },
     "execution_count": 100,
     "metadata": {},
     "output_type": "execute_result"
    }
   ],
   "source": [
    "z.shape"
   ]
  },
  {
   "cell_type": "code",
   "execution_count": 101,
   "id": "814d9eb2",
   "metadata": {},
   "outputs": [
    {
     "data": {
      "text/plain": [
       "2"
      ]
     },
     "execution_count": 101,
     "metadata": {},
     "output_type": "execute_result"
    }
   ],
   "source": [
    "len(np.where(z>3)[0])"
   ]
  },
  {
   "cell_type": "code",
   "execution_count": 102,
   "id": "bfe3c236",
   "metadata": {},
   "outputs": [
    {
     "name": "stdout",
     "output_type": "stream",
     "text": [
      "Old Dataframe (200, 4)\n",
      "New Dataframe (198, 4)\n",
      "total_dropped_rows 2\n"
     ]
    }
   ],
   "source": [
    "# removing outliers\n",
    "df_new=df[(z<3).all(axis=1)]\n",
    "print(\"Old Dataframe\",df.shape)\n",
    "print(\"New Dataframe\",df_new.shape)\n",
    "print(\"total_dropped_rows\",df.shape[0] - df_new.shape[0])"
   ]
  },
  {
   "cell_type": "markdown",
   "id": "c219cfa7",
   "metadata": {},
   "source": [
    "We used Z score method to get rid of outliers present in our dataset that are not in the acceptable range of +/-3 zscore value"
   ]
  },
  {
   "cell_type": "markdown",
   "id": "62441377",
   "metadata": {},
   "source": [
    "### Percentage data loss:"
   ]
  },
  {
   "cell_type": "code",
   "execution_count": 103,
   "id": "83ce8a8a",
   "metadata": {},
   "outputs": [
    {
     "name": "stdout",
     "output_type": "stream",
     "text": [
      "1.0 %\n"
     ]
    }
   ],
   "source": [
    "loss_percent=(200-198)/200*100\n",
    "print(loss_percent,'%')"
   ]
  },
  {
   "cell_type": "markdown",
   "id": "59a7c089",
   "metadata": {},
   "source": [
    "After removing the outliers we are checking the data loss percentage by comparing the rows in our original data set and the new data set\n",
    "\n",
    "1.0% data loss is acceptable"
   ]
  },
  {
   "cell_type": "markdown",
   "id": "04b45723",
   "metadata": {},
   "source": [
    "### df_new is the new data set after 1 column is removed and all the outliers (with z<3 z score) are removed"
   ]
  },
  {
   "cell_type": "markdown",
   "id": "f7011cf3",
   "metadata": {},
   "source": [
    "# Splitting the dataset into Features and Target"
   ]
  },
  {
   "cell_type": "code",
   "execution_count": 104,
   "id": "104bd82c",
   "metadata": {},
   "outputs": [],
   "source": [
    "X = df_new.iloc[:,:-1]         #capital X \n",
    "y = df_new.iloc[:,-1]"
   ]
  },
  {
   "cell_type": "code",
   "execution_count": 105,
   "id": "c7cd5a55",
   "metadata": {},
   "outputs": [
    {
     "data": {
      "text/html": [
       "<div>\n",
       "<style scoped>\n",
       "    .dataframe tbody tr th:only-of-type {\n",
       "        vertical-align: middle;\n",
       "    }\n",
       "\n",
       "    .dataframe tbody tr th {\n",
       "        vertical-align: top;\n",
       "    }\n",
       "\n",
       "    .dataframe thead th {\n",
       "        text-align: right;\n",
       "    }\n",
       "</style>\n",
       "<table border=\"1\" class=\"dataframe\">\n",
       "  <thead>\n",
       "    <tr style=\"text-align: right;\">\n",
       "      <th></th>\n",
       "      <th>TV</th>\n",
       "      <th>radio</th>\n",
       "      <th>newspaper</th>\n",
       "    </tr>\n",
       "  </thead>\n",
       "  <tbody>\n",
       "    <tr>\n",
       "      <th>0</th>\n",
       "      <td>230.1</td>\n",
       "      <td>37.8</td>\n",
       "      <td>69.2</td>\n",
       "    </tr>\n",
       "    <tr>\n",
       "      <th>1</th>\n",
       "      <td>44.5</td>\n",
       "      <td>39.3</td>\n",
       "      <td>45.1</td>\n",
       "    </tr>\n",
       "    <tr>\n",
       "      <th>2</th>\n",
       "      <td>17.2</td>\n",
       "      <td>45.9</td>\n",
       "      <td>69.3</td>\n",
       "    </tr>\n",
       "    <tr>\n",
       "      <th>3</th>\n",
       "      <td>151.5</td>\n",
       "      <td>41.3</td>\n",
       "      <td>58.5</td>\n",
       "    </tr>\n",
       "    <tr>\n",
       "      <th>4</th>\n",
       "      <td>180.8</td>\n",
       "      <td>10.8</td>\n",
       "      <td>58.4</td>\n",
       "    </tr>\n",
       "    <tr>\n",
       "      <th>...</th>\n",
       "      <td>...</td>\n",
       "      <td>...</td>\n",
       "      <td>...</td>\n",
       "    </tr>\n",
       "    <tr>\n",
       "      <th>195</th>\n",
       "      <td>38.2</td>\n",
       "      <td>3.7</td>\n",
       "      <td>13.8</td>\n",
       "    </tr>\n",
       "    <tr>\n",
       "      <th>196</th>\n",
       "      <td>94.2</td>\n",
       "      <td>4.9</td>\n",
       "      <td>8.1</td>\n",
       "    </tr>\n",
       "    <tr>\n",
       "      <th>197</th>\n",
       "      <td>177.0</td>\n",
       "      <td>9.3</td>\n",
       "      <td>6.4</td>\n",
       "    </tr>\n",
       "    <tr>\n",
       "      <th>198</th>\n",
       "      <td>283.6</td>\n",
       "      <td>42.0</td>\n",
       "      <td>66.2</td>\n",
       "    </tr>\n",
       "    <tr>\n",
       "      <th>199</th>\n",
       "      <td>232.1</td>\n",
       "      <td>8.6</td>\n",
       "      <td>8.7</td>\n",
       "    </tr>\n",
       "  </tbody>\n",
       "</table>\n",
       "<p>198 rows × 3 columns</p>\n",
       "</div>"
      ],
      "text/plain": [
       "        TV  radio  newspaper\n",
       "0    230.1   37.8       69.2\n",
       "1     44.5   39.3       45.1\n",
       "2     17.2   45.9       69.3\n",
       "3    151.5   41.3       58.5\n",
       "4    180.8   10.8       58.4\n",
       "..     ...    ...        ...\n",
       "195   38.2    3.7       13.8\n",
       "196   94.2    4.9        8.1\n",
       "197  177.0    9.3        6.4\n",
       "198  283.6   42.0       66.2\n",
       "199  232.1    8.6        8.7\n",
       "\n",
       "[198 rows x 3 columns]"
      ]
     },
     "execution_count": 105,
     "metadata": {},
     "output_type": "execute_result"
    }
   ],
   "source": [
    "X"
   ]
  },
  {
   "cell_type": "code",
   "execution_count": 106,
   "id": "1711f9fc",
   "metadata": {},
   "outputs": [
    {
     "data": {
      "text/plain": [
       "0      22.1\n",
       "1      10.4\n",
       "2       9.3\n",
       "3      18.5\n",
       "4      12.9\n",
       "       ... \n",
       "195     7.6\n",
       "196     9.7\n",
       "197    12.8\n",
       "198    25.5\n",
       "199    13.4\n",
       "Name: sales, Length: 198, dtype: float64"
      ]
     },
     "execution_count": 106,
     "metadata": {},
     "output_type": "execute_result"
    }
   ],
   "source": [
    "y"
   ]
  },
  {
   "cell_type": "code",
   "execution_count": 107,
   "id": "6e161f84",
   "metadata": {},
   "outputs": [
    {
     "data": {
      "text/plain": [
       "TV          -0.082332\n",
       "radio        0.114842\n",
       "newspaper    0.650112\n",
       "dtype: float64"
      ]
     },
     "execution_count": 107,
     "metadata": {},
     "output_type": "execute_result"
    }
   ],
   "source": [
    "X.skew()"
   ]
  },
  {
   "cell_type": "markdown",
   "id": "6ab78a76",
   "metadata": {},
   "source": [
    "From the above we can see that the newspaper column is above the skewness threshold level.\n",
    "\n"
   ]
  },
  {
   "cell_type": "markdown",
   "id": "21a45da8",
   "metadata": {},
   "source": [
    "### Hence Transforming the \"newspaper\" using Boxcox method"
   ]
  },
  {
   "cell_type": "code",
   "execution_count": 108,
   "id": "a38a9d06",
   "metadata": {},
   "outputs": [],
   "source": [
    "from scipy.stats import boxcox"
   ]
  },
  {
   "cell_type": "code",
   "execution_count": 109,
   "id": "d7384a03",
   "metadata": {},
   "outputs": [],
   "source": [
    "X['newspaper']=boxcox(X['newspaper'],0.5)"
   ]
  },
  {
   "cell_type": "code",
   "execution_count": 110,
   "id": "81ee8c7b",
   "metadata": {},
   "outputs": [
    {
     "data": {
      "text/plain": [
       "TV          -0.082332\n",
       "radio        0.114842\n",
       "newspaper   -0.040649\n",
       "dtype: float64"
      ]
     },
     "execution_count": 110,
     "metadata": {},
     "output_type": "execute_result"
    }
   ],
   "source": [
    "X.skew()"
   ]
  },
  {
   "cell_type": "code",
   "execution_count": 111,
   "id": "2b723835",
   "metadata": {},
   "outputs": [
    {
     "data": {
      "text/plain": [
       "0      14.637307\n",
       "1      11.431307\n",
       "2      14.649324\n",
       "3      13.297059\n",
       "4      13.283979\n",
       "         ...    \n",
       "195     5.429670\n",
       "196     3.692100\n",
       "197     3.059644\n",
       "198    14.272676\n",
       "199     3.899152\n",
       "Name: newspaper, Length: 198, dtype: float64"
      ]
     },
     "execution_count": 111,
     "metadata": {},
     "output_type": "execute_result"
    }
   ],
   "source": [
    "X.newspaper"
   ]
  },
  {
   "cell_type": "code",
   "execution_count": 112,
   "id": "8662691a",
   "metadata": {},
   "outputs": [
    {
     "data": {
      "text/plain": [
       "<AxesSubplot:xlabel='newspaper', ylabel='Density'>"
      ]
     },
     "execution_count": 112,
     "metadata": {},
     "output_type": "execute_result"
    },
    {
     "data": {
      "image/png": "[encoded data removed]",
      "text/plain": [
       "<Figure size 432x288 with 1 Axes>"
      ]
     },
     "metadata": {
      "needs_background": "light"
     },
     "output_type": "display_data"
    }
   ],
   "source": [
    "sns.distplot(X['newspaper'])"
   ]
  },
  {
   "cell_type": "markdown",
   "id": "1cf806d7",
   "metadata": {},
   "source": [
    "Hence the skewness of \"newspaper\"  is removed and brought within the skewness threshold range."
   ]
  },
  {
   "cell_type": "markdown",
   "id": "ae11235c",
   "metadata": {},
   "source": [
    "### Scaling the independant variable (X) to get all the columns in a standard scale"
   ]
  },
  {
   "cell_type": "code",
   "execution_count": 113,
   "id": "11804750",
   "metadata": {},
   "outputs": [
    {
     "data": {
      "text/plain": [
       "array([[ 9.78697339e-01,  9.89521352e-01,  1.63669060e+00],\n",
       "       [-1.19901165e+00,  1.09070498e+00,  8.24807889e-01],\n",
       "       [-1.51933199e+00,  1.53591293e+00,  1.63973373e+00],\n",
       "       [ 5.64563564e-02,  1.22561648e+00,  1.29728802e+00],\n",
       "       [ 4.00243389e-01, -8.31783915e-01,  1.29397566e+00],\n",
       "       [-1.61906543e+00,  1.73828018e+00,  1.80970327e+00],\n",
       "       [-1.04647815e+00,  6.52242599e-01, -1.21277595e-01],\n",
       "       [-3.10797368e-01, -2.38173309e-01, -8.51517342e-01],\n",
       "       [-1.62023876e+00, -1.41864895e+00, -2.07003868e+00],\n",
       "       [ 6.23176960e-01, -1.38492107e+00, -2.44520695e-01],\n",
       "       [-9.45571378e-01, -1.16906267e+00, -8.49785485e-02],\n",
       "       [ 7.98003813e-01,  5.86319933e-02, -1.56356175e+00],\n",
       "       [-1.44189191e+00,  8.07390825e-01,  1.53500409e+00],\n",
       "       [-5.77144318e-01, -1.04764232e+00, -1.21749539e+00],\n",
       "       [ 6.73630347e-01,  6.58988174e-01,  8.58578063e-01],\n",
       "       [ 5.71550238e-01,  1.65733328e+00,  1.10721196e+00],\n",
       "       [ 1.58061798e+00,  1.11094170e+00,  1.20683655e+00],\n",
       "       [-9.09198006e-01, -1.77463134e-01, -4.09883309e-01],\n",
       "       [ 7.17630394e-03,  5.18864183e-02, -3.63031787e-01],\n",
       "       [ 8.41417193e-01,  3.08218271e-01,  1.12457994e+00],\n",
       "       [ 1.06435076e+00, -1.21628169e+00, -1.21277595e-01],\n",
       "       [-1.56626537e+00, -4.87759587e-01,  9.90463015e-01],\n",
       "       [ 9.57577316e-01, -4.20303836e-01,  1.59339442e-02],\n",
       "       [-9.90158092e-01, -7.10363564e-01, -4.09883309e-01],\n",
       "       [ 1.36355108e+00, -1.32421089e+00, -3.39974042e-01],\n",
       "       [-4.44504177e-02,  4.16147472e-01, -7.78700851e-01],\n",
       "       [ 1.09603080e+00, -4.33794986e-01, -1.52823719e-01],\n",
       "       [ 1.19811091e+00,  2.67744820e-01, -1.52823719e-01],\n",
       "       [-8.92771321e-01, -4.81014012e-01,  6.58599590e-01],\n",
       "       [ 1.71555146e+00,  3.48691721e-01,  7.52390467e-01],\n",
       "       [-3.96450793e-01, -3.86575961e-01,  5.70169760e-01],\n",
       "       [-5.80664322e-01, -1.45912240e+00,  1.97572788e-01],\n",
       "       [ 1.39523112e+00, -2.11191009e-01, -2.29910677e+00],\n",
       "       [-5.98264341e-01, -1.46586797e+00, -1.19874940e+00],\n",
       "       [ 1.68973810e+00, -1.28373744e+00, -1.09989430e+00],\n",
       "       [ 1.41048447e+00,  1.39425586e+00, -1.44399876e+00],\n",
       "       [-8.44664603e-01,  1.77200806e+00,  8.47358347e-01],\n",
       "       [-1.21543833e+00,  2.40762520e-01,  4.24119778e-01],\n",
       "       [ 9.54057313e-01,  9.82775777e-01,  2.88550568e-01],\n",
       "       [ 6.54856994e-01, -5.60427827e-02,  2.70587593e-01],\n",
       "       [ 3.55656675e-01,  6.92716049e-01,  5.74243141e-01],\n",
       "       [ 1.72376480e+00,  3.08218271e-01, -1.89700550e+00],\n",
       "       [ 7.06483716e-01, -9.93677716e-01,  2.58099783e-02],\n",
       "       [-1.42663856e+00,  1.73306769e-01,  7.56241141e-01],\n",
       "       [ 3.33363318e-01, -4.25516326e-02,  2.66079113e-01],\n",
       "       [-6.68664416e-01, -8.92494090e-01,  4.49657561e-01],\n",
       "       [ 1.09368413e+00,  1.23910763e+00, -3.98075961e-01],\n",
       "       [ 9.44670636e-01, -4.94505162e-01,  1.00123399e+00],\n",
       "       [-9.36184701e-01, -7.71073739e-01,  4.95925574e-01],\n",
       "       [ 6.23176960e-01, -1.35119319e+00,  4.02671073e-01],\n",
       "       [-5.43117616e-01, -9.12730816e-01, -1.61554320e+00],\n",
       "       [ 8.17950501e-01,  1.25259878e+00,  6.10669308e-01],\n",
       "       [ 4.21363412e-01,  1.55614966e+00,  1.30390426e+00],\n",
       "       [ 1.36120441e+00,  3.82419596e-01, -5.56948772e-01],\n",
       "       [ 6.12616949e-01,  1.77200806e+00,  1.34663783e+00],\n",
       "       [-1.63549211e+00,  3.35200571e-01,  6.82300384e-01],\n",
       "       [-1.23063835e-01, -2.65155610e-01, -5.12971709e-01],\n",
       "       [ 7.52243764e-01,  1.78549921e+00,  5.33269242e-01],\n",
       "       [ 7.51070430e-01,  4.29638622e-01, -1.03196856e+00],\n",
       "       [-1.09341154e+00, -1.42539452e+00, -2.33546540e-01],\n",
       "       [ 1.34477773e+00,  1.32005453e+00,  1.16935983e+00],\n",
       "       [ 1.08664412e+00, -5.14741887e-01,  6.97960611e-02],\n",
       "       [-5.16130920e-01,  4.36384197e-01, -1.10860601e+00],\n",
       "       [-1.82903899e-01,  1.32680011e+00,  1.46239552e-01],\n",
       "       [-9.11544675e-01, -9.32967541e-01, -2.09602940e+00],\n",
       "       [-1.35154514e+00,  9.91054437e-02, -1.82528892e+00],\n",
       "       [-8.66904627e-02, -5.82197638e-01, -9.58958009e-01],\n",
       "       [ 1.06435076e+00,  2.94727121e-01, -8.96721665e-01],\n",
       "       [ 8.22643839e-01,  1.40100143e+00,  6.49448899e-02],\n",
       "       [ 6.14963618e-01,  5.03839947e-01,  5.74243141e-01],\n",
       "       [-4.32824165e-01, -5.95688788e-01,  2.75088945e-01],\n",
       "       [-1.40669187e+00,  6.65733749e-01, -3.51473046e-01],\n",
       "       [-2.02850586e-01, -1.17580824e+00,  2.57040634e-01],\n",
       "       [ 7.82750463e-01,  9.91054437e-02, -7.43376950e-01],\n",
       "       [-1.52285199e+00,  1.38751028e+00,  2.21230345e+00],\n",
       "       [-1.39847853e+00, -1.45237682e+00, -2.72184721e-01],\n",
       "       [-3.07277364e-01,  3.62182871e-01, -6.67964297e-01],\n",
       "       [-1.65778547e+00,  4.56620922e-01, -1.02368674e+00],\n",
       "       [-3.60077421e-01, -1.04089674e+00, -1.42262920e-01],\n",
       "       [-8.24717916e-01,  2.40762520e-01, -1.84785890e-01],\n",
       "       [ 1.09251079e+00, -1.28373744e+00,  5.00097255e-01],\n",
       "       [-8.37624596e-01, -1.90954284e-01,  3.10847139e-01],\n",
       "       [-9.18584682e-01,  1.44147488e+00,  4.45416251e-01],\n",
       "       [ 7.83923798e-01,  1.34029126e+00,  3.68028190e-01],\n",
       "       [ 5.45736878e-01, -3.19120210e-01,  1.52876032e+00],\n",
       "       [-8.25891250e-01,  2.94727121e-01, -5.50607887e-01],\n",
       "       [-4.22264154e-01,  1.17839745e+00,  1.44989635e+00],\n",
       "       [-6.85091100e-01,  1.59815619e-01,  1.76266471e+00],\n",
       "       [-4.32824165e-01,  1.66407886e+00,  1.05460963e+00],\n",
       "       [-1.45357192e-01, -1.22977284e+00, -1.03196856e+00],\n",
       "       [-1.38557185e+00, -1.45912240e+00,  3.32972847e-01],\n",
       "       [ 8.33203850e-01,  6.99461624e-01,  1.31380751e+00],\n",
       "       [ 1.22275093e+00,  9.01828876e-01,  1.73002768e+00],\n",
       "       [-4.60984195e-01, -6.15925513e-01, -9.04374525e-01],\n",
       "       [ 1.94909837e-01,  5.71295698e-01,  1.10721196e+00],\n",
       "       [ 5.97363599e-01, -1.32421089e+00, -1.34628742e+00],\n",
       "       [ 4.48350107e-01, -1.43735259e-01, -2.00928232e-01],\n",
       "       [ 1.67800475e+00,  1.29307223e+00,  1.04753830e+00],\n",
       "       [-1.34797181e-01,  1.25259878e+00,  8.54842234e-01],\n",
       "       [ 8.88350576e-01, -1.27024629e+00,  9.97647269e-01],\n",
       "       [ 1.56653796e+00, -8.79002940e-01, -2.33546540e-01],\n",
       "       [ 4.83550145e-01, -4.00067111e-01, -4.33693178e-01],\n",
       "       [ 1.07373744e+00,  7.53426225e-01, -1.41051815e+00],\n",
       "       [-1.03117147e-01,  1.56964081e+00,  1.31380751e+00],\n",
       "       [-1.42781189e+00, -8.18292765e-01,  1.83667495e-01],\n",
       "       [-6.60451074e-01, -1.54006930e+00, -1.36999665e-01],\n",
       "       [-1.56743871e+00, -1.53332372e+00, -1.39225166e-02],\n",
       "       [ 1.27555099e+00,  2.54253670e-01, -1.38872192e+00],\n",
       "       [ 9.28243952e-01, -1.00716887e+00,  1.23049329e+00],\n",
       "       [ 1.11480415e+00,  1.00301250e+00, -1.36999665e-01],\n",
       "       [ 3.40403326e-01, -5.21487462e-01, -1.79188492e+00],\n",
       "       [ 7.38163749e-01, -1.70717559e-01, -9.19786292e-01],\n",
       "       [-8.03597893e-01,  1.59662311e+00,  3.98362775e-01],\n",
       "       [-8.39971265e-01,  8.00645250e-01,  1.10024180e+00],\n",
       "       [-8.78637973e-02, -5.95688788e-01, -1.39225166e-02],\n",
       "       [-8.24717916e-01, -1.50634142e+00, -6.28059954e-01],\n",
       "       [-2.46263966e-01,  9.28811176e-01,  1.93084453e+00],\n",
       "       [-1.49351863e+00, -4.81014012e-01, -1.84785890e-01],\n",
       "       [-6.32237711e-02,  2.47508095e-01,  8.66037558e-01],\n",
       "       [-1.50055864e+00, -9.65162331e-02,  1.01911391e+00],\n",
       "       [ 9.07123929e-01, -1.39841222e+00, -5.76092017e-01],\n",
       "       [-2.76770665e-01,  7.73662950e-01, -7.93026297e-01],\n",
       "       [ 9.71657331e-01,  6.18514724e-01,  1.78624739e+00],\n",
       "       [-6.97997781e-01, -7.64328164e-01,  1.04894337e-03],\n",
       "       [-1.62962544e+00,  1.06372268e+00,  1.02624103e+00],\n",
       "       [-7.80131201e-01, -1.56030602e+00, -1.04029502e+00],\n",
       "       [ 8.63710550e-01,  1.74502576e+00, -1.67050213e+00],\n",
       "       [-1.02183813e+00, -7.50837014e-01,  7.48535335e-01],\n",
       "       [-1.71293220e+00,  1.11094170e+00, -1.08262329e+00],\n",
       "       [ 1.39053778e+00, -1.36468434e+00,  7.44675727e-01],\n",
       "       [-1.62258543e+00,  2.74490395e-01, -1.84256081e+00],\n",
       "       [ 8.57843877e-01,  6.99461624e-01,  8.24807889e-01],\n",
       "       [-1.28818508e+00,  1.04348595e+00,  1.52563488e+00],\n",
       "       [-1.15442493e+00,  1.61011426e+00, -1.09989430e+00],\n",
       "       [-1.42077188e+00,  1.07046825e+00, -1.03196856e+00],\n",
       "       [ 1.49027122e+00,  3.89165171e-01,  1.33681765e+00],\n",
       "       [-1.21661167e+00,  1.86797920e-01, -2.83343774e-01],\n",
       "       [ 4.48350107e-01,  1.40100143e+00, -1.91615048e+00],\n",
       "       [-8.59917953e-01, -4.13558261e-01, -7.57424197e-01],\n",
       "       [ 5.51603551e-01,  8.27627550e-01,  1.82721320e+00],\n",
       "       [ 8.66057219e-01,  6.79224899e-01,  5.41507097e-01],\n",
       "       [-4.93837563e-01, -1.17580824e+00,  3.94048228e-01],\n",
       "       [-5.92397668e-01, -5.61960912e-01,  5.82374145e-01],\n",
       "       [-7.49571169e-02, -1.43214010e+00, -1.05708482e+00],\n",
       "       [ 1.09603080e+00, -1.06787904e+00, -1.08262329e+00],\n",
       "       [ 1.13240417e+00,  1.74502576e+00,  7.94505962e-01],\n",
       "       [-1.27527840e+00,  1.15816073e+00, -8.29353714e-01],\n",
       "       [-1.19666498e+00,  1.80052344e-01, -2.77757477e-01],\n",
       "       [ 1.57240464e+00, -6.22671088e-01,  5.04263286e-01],\n",
       "       [-3.01410691e-01, -9.93677716e-01,  9.57953165e-01],\n",
       "       [ 5.97363599e-01,  1.14129679e-02, -6.67964297e-01],\n",
       "       [ 2.88776604e-01,  1.11768728e+00,  5.33269242e-01],\n",
       "       [ 4.82376810e-01, -1.36989683e-01, -1.01544887e+00],\n",
       "       [-1.67303882e+00, -7.77819314e-01, -1.36731851e+00],\n",
       "       [-6.19384363e-01,  1.37401913e+00,  1.02267923e+00],\n",
       "       [ 3.65096685e-02, -1.47261355e+00, -7.98360517e-02],\n",
       "       [-1.58386539e+00,  9.28811176e-01,  8.28576670e-01],\n",
       "       [-1.75863891e-01, -3.19120210e-01,  4.02671073e-01],\n",
       "       [ 3.02856619e-01, -3.39356935e-01,  2.29750531e-01],\n",
       "       [-7.15597799e-01,  8.54609851e-01,  9.79659420e-01],\n",
       "       [ 4.89416818e-01, -3.39356935e-01, -1.39225166e-02],\n",
       "       [ 1.97256506e-01,  9.22065601e-01, -1.19874940e+00],\n",
       "       [-3.45997406e-01, -5.68706487e-01, -1.39956958e+00],\n",
       "       [ 1.03032406e+00, -1.33095647e+00,  2.08747422e+00],\n",
       "       [-1.51111865e+00,  9.76030202e-01, -2.22623548e-01],\n",
       "       [ 7.05310381e-01, -1.20953612e+00, -3.45716135e-01],\n",
       "       [ 8.06217155e-01,  3.16496931e-02,  1.26737403e+00],\n",
       "       [ 1.61464468e+00, -8.45275065e-01, -1.29521906e+00],\n",
       "       [-1.13447825e+00, -7.77819314e-01, -4.03971613e-01],\n",
       "       [ 2.08989852e-01, -1.50480834e-01,  9.10459436e-01],\n",
       "       [-1.49117196e+00, -2.04445434e-01, -4.88257728e-01],\n",
       "       [ 2.54749901e-01, -1.08137019e+00, -7.64488656e-01],\n",
       "       [ 8.88350576e-01, -1.33095647e+00, -7.43376950e-01],\n",
       "       [ 1.52781792e+00,  1.73828018e+00,  6.98005613e-01],\n",
       "       [ 1.19341757e+00,  4.76857647e-01, -2.94557396e-01],\n",
       "       [ 2.75869923e-01, -1.03415117e+00,  4.28391148e-01],\n",
       "       [ 1.52547125e+00, -1.40515780e+00, -1.10851909e-01],\n",
       "       [ 2.21896533e-01, -8.85748515e-01, -4.51725665e-01],\n",
       "       [ 1.16296420e-01, -1.38492107e+00, -1.11736972e+00],\n",
       "       [ 8.42590527e-01, -1.19604497e+00,  7.46383555e-02],\n",
       "       [-1.06173150e+00, -1.17580824e+00,  1.83667495e-01],\n",
       "       [ 1.65336472e+00,  1.34029126e+00,  1.71511062e+00],\n",
       "       [ 1.25677764e+00, -1.23498533e-01,  1.97572788e-01],\n",
       "       [ 6.84190358e-01,  1.48194833e+00, -3.34246653e-01],\n",
       "       [-8.43437935e-02, -1.41864895e+00,  3.56486734e-02],\n",
       "       [ 5.21096851e-01,  3.75674021e-01, -4.15811178e-01],\n",
       "       [ 1.63459137e+00, -6.22671088e-01, -1.60228778e+00],\n",
       "       [-1.50173197e+00, -7.44091439e-01, -1.26507075e-01],\n",
       "       [-1.25767838e+00,  1.21212533e+00, -1.35675764e+00],\n",
       "       [-8.35277927e-01, -8.31783915e-01, -1.33590556e+00],\n",
       "       [-1.51933199e+00, -1.28373744e+00,  2.70587593e-01],\n",
       "       [ 2.35976548e-01,  1.27283550e+00, -1.61554320e+00],\n",
       "       [ 3.53363339e-02,  8.41118701e-01, -1.33590556e+00],\n",
       "       [-1.27293173e+00, -1.31071974e+00, -6.95037318e-01],\n",
       "       [-6.15864360e-01, -1.22977284e+00, -1.13505699e+00],\n",
       "       [ 3.55656675e-01, -9.32967541e-01, -1.29521906e+00],\n",
       "       [ 1.60643134e+00,  1.27283550e+00,  1.54435201e+00],\n",
       "       [ 1.00216403e+00, -9.80186566e-01, -1.08262329e+00]])"
      ]
     },
     "execution_count": 113,
     "metadata": {},
     "output_type": "execute_result"
    }
   ],
   "source": [
    "from sklearn.preprocessing import StandardScaler\n",
    "sc=StandardScaler()\n",
    "x1=sc.fit_transform(X)\n",
    "x1"
   ]
  },
  {
   "cell_type": "markdown",
   "id": "7407a001",
   "metadata": {},
   "source": [
    "since the different columns were out of scale we performed scaling operation on all the independant variables columns to bring it into the same scale.\n",
    "\n",
    "We used Standard Scaler method to ensure all my independant variables columns have standardized scale."
   ]
  },
  {
   "cell_type": "markdown",
   "id": "72af6f09",
   "metadata": {},
   "source": [
    "### reassigning column names"
   ]
  },
  {
   "cell_type": "code",
   "execution_count": 114,
   "id": "16683644",
   "metadata": {},
   "outputs": [
    {
     "data": {
      "text/plain": [
       "Index(['TV', 'radio', 'newspaper'], dtype='object')"
      ]
     },
     "execution_count": 114,
     "metadata": {},
     "output_type": "execute_result"
    }
   ],
   "source": [
    "X.columns"
   ]
  },
  {
   "cell_type": "code",
   "execution_count": 115,
   "id": "76bb2f10",
   "metadata": {},
   "outputs": [],
   "source": [
    "x = pd.DataFrame(x1,columns=X.columns)"
   ]
  },
  {
   "cell_type": "code",
   "execution_count": 116,
   "id": "736e561d",
   "metadata": {},
   "outputs": [
    {
     "data": {
      "text/html": [
       "<div>\n",
       "<style scoped>\n",
       "    .dataframe tbody tr th:only-of-type {\n",
       "        vertical-align: middle;\n",
       "    }\n",
       "\n",
       "    .dataframe tbody tr th {\n",
       "        vertical-align: top;\n",
       "    }\n",
       "\n",
       "    .dataframe thead th {\n",
       "        text-align: right;\n",
       "    }\n",
       "</style>\n",
       "<table border=\"1\" class=\"dataframe\">\n",
       "  <thead>\n",
       "    <tr style=\"text-align: right;\">\n",
       "      <th></th>\n",
       "      <th>TV</th>\n",
       "      <th>radio</th>\n",
       "      <th>newspaper</th>\n",
       "    </tr>\n",
       "  </thead>\n",
       "  <tbody>\n",
       "    <tr>\n",
       "      <th>0</th>\n",
       "      <td>0.978697</td>\n",
       "      <td>0.989521</td>\n",
       "      <td>1.636691</td>\n",
       "    </tr>\n",
       "    <tr>\n",
       "      <th>1</th>\n",
       "      <td>-1.199012</td>\n",
       "      <td>1.090705</td>\n",
       "      <td>0.824808</td>\n",
       "    </tr>\n",
       "    <tr>\n",
       "      <th>2</th>\n",
       "      <td>-1.519332</td>\n",
       "      <td>1.535913</td>\n",
       "      <td>1.639734</td>\n",
       "    </tr>\n",
       "    <tr>\n",
       "      <th>3</th>\n",
       "      <td>0.056456</td>\n",
       "      <td>1.225616</td>\n",
       "      <td>1.297288</td>\n",
       "    </tr>\n",
       "    <tr>\n",
       "      <th>4</th>\n",
       "      <td>0.400243</td>\n",
       "      <td>-0.831784</td>\n",
       "      <td>1.293976</td>\n",
       "    </tr>\n",
       "    <tr>\n",
       "      <th>...</th>\n",
       "      <td>...</td>\n",
       "      <td>...</td>\n",
       "      <td>...</td>\n",
       "    </tr>\n",
       "    <tr>\n",
       "      <th>193</th>\n",
       "      <td>-1.272932</td>\n",
       "      <td>-1.310720</td>\n",
       "      <td>-0.695037</td>\n",
       "    </tr>\n",
       "    <tr>\n",
       "      <th>194</th>\n",
       "      <td>-0.615864</td>\n",
       "      <td>-1.229773</td>\n",
       "      <td>-1.135057</td>\n",
       "    </tr>\n",
       "    <tr>\n",
       "      <th>195</th>\n",
       "      <td>0.355657</td>\n",
       "      <td>-0.932968</td>\n",
       "      <td>-1.295219</td>\n",
       "    </tr>\n",
       "    <tr>\n",
       "      <th>196</th>\n",
       "      <td>1.606431</td>\n",
       "      <td>1.272836</td>\n",
       "      <td>1.544352</td>\n",
       "    </tr>\n",
       "    <tr>\n",
       "      <th>197</th>\n",
       "      <td>1.002164</td>\n",
       "      <td>-0.980187</td>\n",
       "      <td>-1.082623</td>\n",
       "    </tr>\n",
       "  </tbody>\n",
       "</table>\n",
       "<p>198 rows × 3 columns</p>\n",
       "</div>"
      ],
      "text/plain": [
       "           TV     radio  newspaper\n",
       "0    0.978697  0.989521   1.636691\n",
       "1   -1.199012  1.090705   0.824808\n",
       "2   -1.519332  1.535913   1.639734\n",
       "3    0.056456  1.225616   1.297288\n",
       "4    0.400243 -0.831784   1.293976\n",
       "..        ...       ...        ...\n",
       "193 -1.272932 -1.310720  -0.695037\n",
       "194 -0.615864 -1.229773  -1.135057\n",
       "195  0.355657 -0.932968  -1.295219\n",
       "196  1.606431  1.272836   1.544352\n",
       "197  1.002164 -0.980187  -1.082623\n",
       "\n",
       "[198 rows x 3 columns]"
      ]
     },
     "execution_count": 116,
     "metadata": {},
     "output_type": "execute_result"
    }
   ],
   "source": [
    "x"
   ]
  },
  {
   "cell_type": "markdown",
   "id": "504c536f",
   "metadata": {},
   "source": [
    "now the data is ready for Machine learing"
   ]
  },
  {
   "cell_type": "markdown",
   "id": "4b23a4d0",
   "metadata": {},
   "source": [
    "# Machine Learning"
   ]
  },
  {
   "cell_type": "markdown",
   "id": "6c026d0e",
   "metadata": {},
   "source": [
    "### Since the y (Target) has continuous values we will use Linear Regression model"
   ]
  },
  {
   "cell_type": "markdown",
   "id": "1072b366",
   "metadata": {},
   "source": [
    "## Finding Best Random State"
   ]
  },
  {
   "cell_type": "code",
   "execution_count": 119,
   "id": "847df016",
   "metadata": {},
   "outputs": [],
   "source": [
    "from sklearn.linear_model import LinearRegression\n",
    "from sklearn.metrics import mean_squared_error, mean_absolute_error, r2_score\n",
    "from sklearn.model_selection import train_test_split\n",
    "lr = LinearRegression()"
   ]
  },
  {
   "cell_type": "code",
   "execution_count": 120,
   "id": "f6f49aaa",
   "metadata": {},
   "outputs": [
    {
     "name": "stdout",
     "output_type": "stream",
     "text": [
      "At random state 1, the training accuracy is : 0.8945018460466634\n",
      "At random state 1, the testing accuracy is :  0.8915808201402338\n",
      "\n",
      "\n",
      "At random state 2, the training accuracy is : 0.9104895320853252\n",
      "At random state 2, the testing accuracy is :  0.8385093780102322\n",
      "\n",
      "\n",
      "At random state 3, the training accuracy is : 0.8945008732306111\n",
      "At random state 3, the testing accuracy is :  0.8977495614063602\n",
      "\n",
      "\n",
      "At random state 4, the training accuracy is : 0.8980063011610756\n",
      "At random state 4, the testing accuracy is :  0.8726744168845626\n",
      "\n",
      "\n",
      "At random state 5, the training accuracy is : 0.8993019881675023\n",
      "At random state 5, the testing accuracy is :  0.8622409600064913\n",
      "\n",
      "\n",
      "At random state 6, the training accuracy is : 0.8991574664390982\n",
      "At random state 6, the testing accuracy is :  0.8766949131606818\n",
      "\n",
      "\n",
      "At random state 7, the training accuracy is : 0.890944609101688\n",
      "At random state 7, the testing accuracy is :  0.9063807263429215\n",
      "\n",
      "\n",
      "At random state 8, the training accuracy is : 0.9023892159093364\n",
      "At random state 8, the testing accuracy is :  0.8653415977754738\n",
      "\n",
      "\n",
      "At random state 9, the training accuracy is : 0.8894121458179546\n",
      "At random state 9, the testing accuracy is :  0.9151924962930181\n",
      "\n",
      "\n",
      "At random state 10, the training accuracy is : 0.9234817137067555\n",
      "At random state 10, the testing accuracy is :  0.7845167673812316\n",
      "\n",
      "\n",
      "At random state 11, the training accuracy is : 0.8847579028807493\n",
      "At random state 11, the testing accuracy is :  0.9259845612237144\n",
      "\n",
      "\n",
      "At random state 12, the training accuracy is : 0.8931848342049384\n",
      "At random state 12, the testing accuracy is :  0.9003144586779663\n",
      "\n",
      "\n",
      "At random state 13, the training accuracy is : 0.9072955780343295\n",
      "At random state 13, the testing accuracy is :  0.8382064807676584\n",
      "\n",
      "\n",
      "At random state 14, the training accuracy is : 0.8855713645648353\n",
      "At random state 14, the testing accuracy is :  0.9139620728175997\n",
      "\n",
      "\n",
      "At random state 15, the training accuracy is : 0.8912146118345223\n",
      "At random state 15, the testing accuracy is :  0.9079583268637839\n",
      "\n",
      "\n",
      "At random state 16, the training accuracy is : 0.8902875167485287\n",
      "At random state 16, the testing accuracy is :  0.9096736262327478\n",
      "\n",
      "\n",
      "At random state 17, the training accuracy is : 0.8886354795189352\n",
      "At random state 17, the testing accuracy is :  0.9172247053570082\n",
      "\n",
      "\n",
      "At random state 18, the training accuracy is : 0.910617752658842\n",
      "At random state 18, the testing accuracy is :  0.8353660876793957\n",
      "\n",
      "\n",
      "At random state 19, the training accuracy is : 0.895175477993797\n",
      "At random state 19, the testing accuracy is :  0.8783473492701435\n",
      "\n",
      "\n",
      "At random state 20, the training accuracy is : 0.886360180230369\n",
      "At random state 20, the testing accuracy is :  0.9130903566365755\n",
      "\n",
      "\n",
      "At random state 21, the training accuracy is : 0.884474753346419\n",
      "At random state 21, the testing accuracy is :  0.9280981225653249\n",
      "\n",
      "\n",
      "At random state 22, the training accuracy is : 0.8861759776656968\n",
      "At random state 22, the testing accuracy is :  0.9278015581594274\n",
      "\n",
      "\n",
      "At random state 23, the training accuracy is : 0.8848527733114713\n",
      "At random state 23, the testing accuracy is :  0.9292418223308446\n",
      "\n",
      "\n",
      "At random state 24, the training accuracy is : 0.8807167144986324\n",
      "At random state 24, the testing accuracy is :  0.9470588911088108\n",
      "\n",
      "\n",
      "At random state 25, the training accuracy is : 0.8828726818254514\n",
      "At random state 25, the testing accuracy is :  0.9374877000743008\n",
      "\n",
      "\n",
      "At random state 26, the training accuracy is : 0.9048386945259568\n",
      "At random state 26, the testing accuracy is :  0.8200205806125271\n",
      "\n",
      "\n",
      "At random state 27, the training accuracy is : 0.9093877544856235\n",
      "At random state 27, the testing accuracy is :  0.82200382276998\n",
      "\n",
      "\n",
      "At random state 28, the training accuracy is : 0.9149923897944576\n",
      "At random state 28, the testing accuracy is :  0.824657137233989\n",
      "\n",
      "\n",
      "At random state 29, the training accuracy is : 0.9079850559017626\n",
      "At random state 29, the testing accuracy is :  0.8428721919021798\n",
      "\n",
      "\n",
      "At random state 30, the training accuracy is : 0.9124839582885386\n",
      "At random state 30, the testing accuracy is :  0.8252542820487997\n",
      "\n",
      "\n",
      "At random state 31, the training accuracy is : 0.8807813164903344\n",
      "At random state 31, the testing accuracy is :  0.9322410961977345\n",
      "\n",
      "\n",
      "At random state 32, the training accuracy is : 0.8878745837425007\n",
      "At random state 32, the testing accuracy is :  0.9175537182776695\n",
      "\n",
      "\n",
      "At random state 33, the training accuracy is : 0.8879882989708496\n",
      "At random state 33, the testing accuracy is :  0.9168810654061036\n",
      "\n",
      "\n",
      "At random state 34, the training accuracy is : 0.8963326815087105\n",
      "At random state 34, the testing accuracy is :  0.8827613135562804\n",
      "\n",
      "\n",
      "At random state 35, the training accuracy is : 0.890330086541364\n",
      "At random state 35, the testing accuracy is :  0.9152274156114041\n",
      "\n",
      "\n",
      "At random state 36, the training accuracy is : 0.889604776334499\n",
      "At random state 36, the testing accuracy is :  0.9128607101892307\n",
      "\n",
      "\n",
      "At random state 37, the training accuracy is : 0.8928000346196905\n",
      "At random state 37, the testing accuracy is :  0.9088278324221779\n",
      "\n",
      "\n",
      "At random state 38, the training accuracy is : 0.8897992521999325\n",
      "At random state 38, the testing accuracy is :  0.9171487919237081\n",
      "\n",
      "\n",
      "At random state 39, the training accuracy is : 0.9036070955828279\n",
      "At random state 39, the testing accuracy is :  0.8557691443734092\n",
      "\n",
      "\n",
      "At random state 40, the training accuracy is : 0.8938831948100018\n",
      "At random state 40, the testing accuracy is :  0.8932663650180765\n",
      "\n",
      "\n",
      "At random state 41, the training accuracy is : 0.8988787589416551\n",
      "At random state 41, the testing accuracy is :  0.8664155228386854\n",
      "\n",
      "\n",
      "At random state 42, the training accuracy is : 0.8939442665762621\n",
      "At random state 42, the testing accuracy is :  0.8973506561453755\n",
      "\n",
      "\n",
      "At random state 43, the training accuracy is : 0.9001636599429672\n",
      "At random state 43, the testing accuracy is :  0.8753517136188681\n",
      "\n",
      "\n",
      "At random state 44, the training accuracy is : 0.9029550404208074\n",
      "At random state 44, the testing accuracy is :  0.812926140704406\n",
      "\n",
      "\n",
      "At random state 45, the training accuracy is : 0.8977442277455934\n",
      "At random state 45, the testing accuracy is :  0.8752250488622104\n",
      "\n",
      "\n",
      "At random state 46, the training accuracy is : 0.8990385584067329\n",
      "At random state 46, the testing accuracy is :  0.8747213040260013\n",
      "\n",
      "\n",
      "At random state 47, the training accuracy is : 0.8948665010955633\n",
      "At random state 47, the testing accuracy is :  0.8922417237310006\n",
      "\n",
      "\n",
      "At random state 48, the training accuracy is : 0.9015776846896191\n",
      "At random state 48, the testing accuracy is :  0.8680086528232098\n",
      "\n",
      "\n",
      "At random state 49, the training accuracy is : 0.9105423653107543\n",
      "At random state 49, the testing accuracy is :  0.8350653342955413\n",
      "\n",
      "\n",
      "At random state 50, the training accuracy is : 0.9009852860973522\n",
      "At random state 50, the testing accuracy is :  0.8423100031908728\n",
      "\n",
      "\n",
      "At random state 51, the training accuracy is : 0.8931532403468286\n",
      "At random state 51, the testing accuracy is :  0.8957875198770013\n",
      "\n",
      "\n",
      "At random state 52, the training accuracy is : 0.8947509459615383\n",
      "At random state 52, the testing accuracy is :  0.8925915186724516\n",
      "\n",
      "\n",
      "At random state 53, the training accuracy is : 0.904874673000394\n",
      "At random state 53, the testing accuracy is :  0.8523547724792293\n",
      "\n",
      "\n",
      "At random state 54, the training accuracy is : 0.898221004570017\n",
      "At random state 54, the testing accuracy is :  0.8776353009952889\n",
      "\n",
      "\n",
      "At random state 55, the training accuracy is : 0.8931964541935601\n",
      "At random state 55, the testing accuracy is :  0.8987976261667096\n",
      "\n",
      "\n",
      "At random state 56, the training accuracy is : 0.9060692378798125\n",
      "At random state 56, the testing accuracy is :  0.8449970932688171\n",
      "\n",
      "\n",
      "At random state 57, the training accuracy is : 0.9029895636543817\n",
      "At random state 57, the testing accuracy is :  0.8659209846255534\n",
      "\n",
      "\n",
      "At random state 58, the training accuracy is : 0.8814905568092585\n",
      "At random state 58, the testing accuracy is :  0.9301081927084237\n",
      "\n",
      "\n",
      "At random state 59, the training accuracy is : 0.8874616860462764\n",
      "At random state 59, the testing accuracy is :  0.917710329070742\n",
      "\n",
      "\n",
      "At random state 60, the training accuracy is : 0.8983883112872219\n",
      "At random state 60, the testing accuracy is :  0.88270220311797\n",
      "\n",
      "\n",
      "At random state 61, the training accuracy is : 0.9043643738374806\n",
      "At random state 61, the testing accuracy is :  0.8544776294432311\n",
      "\n",
      "\n",
      "At random state 62, the training accuracy is : 0.900641456423033\n",
      "At random state 62, the testing accuracy is :  0.8570993690354571\n",
      "\n",
      "\n",
      "At random state 63, the training accuracy is : 0.894043405997483\n",
      "At random state 63, the testing accuracy is :  0.8964376150854272\n",
      "\n",
      "\n",
      "At random state 64, the training accuracy is : 0.886133112177135\n",
      "At random state 64, the testing accuracy is :  0.926508500814428\n",
      "\n",
      "\n",
      "At random state 65, the training accuracy is : 0.8978432738005423\n",
      "At random state 65, the testing accuracy is :  0.8828637466180443\n",
      "\n",
      "\n",
      "At random state 66, the training accuracy is : 0.9001082700395925\n",
      "At random state 66, the testing accuracy is :  0.876330270283092\n",
      "\n",
      "\n",
      "At random state 67, the training accuracy is : 0.8915025477235988\n",
      "At random state 67, the testing accuracy is :  0.9058168794622784\n",
      "\n",
      "\n",
      "At random state 68, the training accuracy is : 0.9028493757450913\n",
      "At random state 68, the testing accuracy is :  0.8641483684931222\n",
      "\n",
      "\n",
      "At random state 69, the training accuracy is : 0.8915063040754967\n",
      "At random state 69, the testing accuracy is :  0.9060630749933308\n",
      "\n",
      "\n",
      "At random state 70, the training accuracy is : 0.8834039435694677\n",
      "At random state 70, the testing accuracy is :  0.9232879755887871\n",
      "\n",
      "\n",
      "At random state 71, the training accuracy is : 0.9093852989222347\n",
      "At random state 71, the testing accuracy is :  0.8075682042626336\n",
      "\n",
      "\n",
      "At random state 72, the training accuracy is : 0.887909641380888\n",
      "At random state 72, the testing accuracy is :  0.9204939440753832\n",
      "\n",
      "\n",
      "At random state 73, the training accuracy is : 0.8960910447264088\n",
      "At random state 73, the testing accuracy is :  0.8848284915077834\n",
      "\n",
      "\n",
      "At random state 74, the training accuracy is : 0.8738718540420292\n",
      "At random state 74, the testing accuracy is :  0.9302643275474216\n",
      "\n",
      "\n",
      "At random state 75, the training accuracy is : 0.8953946547741161\n",
      "At random state 75, the testing accuracy is :  0.8756530010156296\n",
      "\n",
      "\n",
      "At random state 76, the training accuracy is : 0.9038753805919301\n",
      "At random state 76, the testing accuracy is :  0.8517080643619265\n",
      "\n",
      "\n",
      "At random state 77, the training accuracy is : 0.8889513987941758\n",
      "At random state 77, the testing accuracy is :  0.9168452679704561\n",
      "\n",
      "\n",
      "At random state 78, the training accuracy is : 0.9135381248514395\n",
      "At random state 78, the testing accuracy is :  0.7899873713177685\n",
      "\n",
      "\n",
      "At random state 79, the training accuracy is : 0.8920179616099255\n",
      "At random state 79, the testing accuracy is :  0.9004279725235953\n",
      "\n",
      "\n",
      "At random state 80, the training accuracy is : 0.892726634902634\n",
      "At random state 80, the testing accuracy is :  0.9035040850720206\n",
      "\n",
      "\n",
      "At random state 81, the training accuracy is : 0.8877972939748031\n",
      "At random state 81, the testing accuracy is :  0.9199819618982278\n",
      "\n",
      "\n",
      "At random state 82, the training accuracy is : 0.9088225935331653\n",
      "At random state 82, the testing accuracy is :  0.840722645720096\n",
      "\n",
      "\n",
      "At random state 83, the training accuracy is : 0.9004411052929164\n",
      "At random state 83, the testing accuracy is :  0.8790442238369576\n",
      "\n",
      "\n",
      "At random state 84, the training accuracy is : 0.8837031763075623\n",
      "At random state 84, the testing accuracy is :  0.9284526387270741\n",
      "\n",
      "\n",
      "At random state 85, the training accuracy is : 0.913142456288272\n",
      "At random state 85, the testing accuracy is :  0.7700764934265758\n",
      "\n",
      "\n",
      "At random state 86, the training accuracy is : 0.8924092314996968\n",
      "At random state 86, the testing accuracy is :  0.9056257429769184\n",
      "\n",
      "\n",
      "At random state 87, the training accuracy is : 0.9138331281311072\n",
      "At random state 87, the testing accuracy is :  0.8105298937240415\n",
      "\n",
      "\n",
      "At random state 88, the training accuracy is : 0.8973336703431843\n",
      "At random state 88, the testing accuracy is :  0.883601280770308\n",
      "\n",
      "\n"
     ]
    },
    {
     "name": "stdout",
     "output_type": "stream",
     "text": [
      "At random state 89, the training accuracy is : 0.9032240895674261\n",
      "At random state 89, the testing accuracy is :  0.8457607864614859\n",
      "\n",
      "\n",
      "At random state 90, the training accuracy is : 0.8793112686032555\n",
      "At random state 90, the testing accuracy is :  0.9468304700964036\n",
      "\n",
      "\n",
      "At random state 91, the training accuracy is : 0.8927178994151133\n",
      "At random state 91, the testing accuracy is :  0.8977596185481717\n",
      "\n",
      "\n",
      "At random state 92, the training accuracy is : 0.893765716936519\n",
      "At random state 92, the testing accuracy is :  0.8934151292076533\n",
      "\n",
      "\n",
      "At random state 93, the training accuracy is : 0.9081892173335392\n",
      "At random state 93, the testing accuracy is :  0.8443176859670056\n",
      "\n",
      "\n",
      "At random state 94, the training accuracy is : 0.9033986835736001\n",
      "At random state 94, the testing accuracy is :  0.8683982189350958\n",
      "\n",
      "\n",
      "At random state 95, the training accuracy is : 0.9081649716354206\n",
      "At random state 95, the testing accuracy is :  0.8477779307074431\n",
      "\n",
      "\n",
      "At random state 96, the training accuracy is : 0.9027836209567597\n",
      "At random state 96, the testing accuracy is :  0.8539094728382499\n",
      "\n",
      "\n",
      "At random state 97, the training accuracy is : 0.894327930195089\n",
      "At random state 97, the testing accuracy is :  0.8974093864265152\n",
      "\n",
      "\n",
      "At random state 98, the training accuracy is : 0.9084859758312095\n",
      "At random state 98, the testing accuracy is :  0.8406615841001426\n",
      "\n",
      "\n",
      "At random state 99, the training accuracy is : 0.8832335445293644\n",
      "At random state 99, the testing accuracy is :  0.9298618955109363\n",
      "\n",
      "\n",
      "At random state 100, the training accuracy is : 0.9041687172057868\n",
      "At random state 100, the testing accuracy is :  0.8574423769722794\n",
      "\n",
      "\n",
      "At random state 101, the training accuracy is : 0.8965073760158644\n",
      "At random state 101, the testing accuracy is :  0.8889516019749997\n",
      "\n",
      "\n",
      "At random state 102, the training accuracy is : 0.8895832573739337\n",
      "At random state 102, the testing accuracy is :  0.9083873197519572\n",
      "\n",
      "\n",
      "At random state 103, the training accuracy is : 0.9060064135392742\n",
      "At random state 103, the testing accuracy is :  0.8472694373387699\n",
      "\n",
      "\n",
      "At random state 104, the training accuracy is : 0.9161387688254968\n",
      "At random state 104, the testing accuracy is :  0.7998174657776738\n",
      "\n",
      "\n",
      "At random state 105, the training accuracy is : 0.895326926612566\n",
      "At random state 105, the testing accuracy is :  0.8882858375379981\n",
      "\n",
      "\n",
      "At random state 106, the training accuracy is : 0.8912816661003771\n",
      "At random state 106, the testing accuracy is :  0.9082629495058362\n",
      "\n",
      "\n",
      "At random state 107, the training accuracy is : 0.8935526482203064\n",
      "At random state 107, the testing accuracy is :  0.8980736011281478\n",
      "\n",
      "\n",
      "At random state 108, the training accuracy is : 0.8977040262462815\n",
      "At random state 108, the testing accuracy is :  0.8782872875402506\n",
      "\n",
      "\n",
      "At random state 109, the training accuracy is : 0.898388539254274\n",
      "At random state 109, the testing accuracy is :  0.8796618839623555\n",
      "\n",
      "\n",
      "At random state 110, the training accuracy is : 0.8913862984633973\n",
      "At random state 110, the testing accuracy is :  0.9080216101643795\n",
      "\n",
      "\n",
      "At random state 111, the training accuracy is : 0.9044879915848897\n",
      "At random state 111, the testing accuracy is :  0.8587530485568949\n",
      "\n",
      "\n",
      "At random state 112, the training accuracy is : 0.8907566719626354\n",
      "At random state 112, the testing accuracy is :  0.8958563020615764\n",
      "\n",
      "\n",
      "At random state 113, the training accuracy is : 0.9145956218493138\n",
      "At random state 113, the testing accuracy is :  0.8040614822325981\n",
      "\n",
      "\n",
      "At random state 114, the training accuracy is : 0.8834643325644406\n",
      "At random state 114, the testing accuracy is :  0.9341368246409611\n",
      "\n",
      "\n",
      "At random state 115, the training accuracy is : 0.884755517461455\n",
      "At random state 115, the testing accuracy is :  0.9364065107007099\n",
      "\n",
      "\n",
      "At random state 116, the training accuracy is : 0.8999289091355094\n",
      "At random state 116, the testing accuracy is :  0.8718185736934254\n",
      "\n",
      "\n",
      "At random state 117, the training accuracy is : 0.8886409851446068\n",
      "At random state 117, the testing accuracy is :  0.926759562254935\n",
      "\n",
      "\n",
      "At random state 118, the training accuracy is : 0.8908568973358426\n",
      "At random state 118, the testing accuracy is :  0.9136710968444595\n",
      "\n",
      "\n",
      "At random state 119, the training accuracy is : 0.8883647000866062\n",
      "At random state 119, the testing accuracy is :  0.9097916423379031\n",
      "\n",
      "\n",
      "At random state 120, the training accuracy is : 0.9021883080003517\n",
      "At random state 120, the testing accuracy is :  0.8570006325854647\n",
      "\n",
      "\n",
      "At random state 121, the training accuracy is : 0.911883932429748\n",
      "At random state 121, the testing accuracy is :  0.7964368691067258\n",
      "\n",
      "\n",
      "At random state 122, the training accuracy is : 0.8978412725039211\n",
      "At random state 122, the testing accuracy is :  0.8797778850723125\n",
      "\n",
      "\n",
      "At random state 123, the training accuracy is : 0.9120032123343706\n",
      "At random state 123, the testing accuracy is :  0.7932254397301202\n",
      "\n",
      "\n",
      "At random state 124, the training accuracy is : 0.8972221035283424\n",
      "At random state 124, the testing accuracy is :  0.8880110916693195\n",
      "\n",
      "\n",
      "At random state 125, the training accuracy is : 0.8993777231974107\n",
      "At random state 125, the testing accuracy is :  0.8631435894632403\n",
      "\n",
      "\n",
      "At random state 126, the training accuracy is : 0.9128435028014764\n",
      "At random state 126, the testing accuracy is :  0.8129478338895874\n",
      "\n",
      "\n",
      "At random state 127, the training accuracy is : 0.8966919081828019\n",
      "At random state 127, the testing accuracy is :  0.8687123447707688\n",
      "\n",
      "\n",
      "At random state 128, the training accuracy is : 0.9029668286538463\n",
      "At random state 128, the testing accuracy is :  0.8658118239054694\n",
      "\n",
      "\n",
      "At random state 129, the training accuracy is : 0.8962165960176488\n",
      "At random state 129, the testing accuracy is :  0.8859416076210249\n",
      "\n",
      "\n",
      "At random state 130, the training accuracy is : 0.8936219639157396\n",
      "At random state 130, the testing accuracy is :  0.8999685595688562\n",
      "\n",
      "\n",
      "At random state 131, the training accuracy is : 0.8980010867186684\n",
      "At random state 131, the testing accuracy is :  0.8774102455407732\n",
      "\n",
      "\n",
      "At random state 132, the training accuracy is : 0.898379030238191\n",
      "At random state 132, the testing accuracy is :  0.8807177215135806\n",
      "\n",
      "\n",
      "At random state 133, the training accuracy is : 0.9048205245988455\n",
      "At random state 133, the testing accuracy is :  0.8515846991419862\n",
      "\n",
      "\n",
      "At random state 134, the training accuracy is : 0.8894753451279139\n",
      "At random state 134, the testing accuracy is :  0.9106655558747354\n",
      "\n",
      "\n",
      "At random state 135, the training accuracy is : 0.88793989076443\n",
      "At random state 135, the testing accuracy is :  0.91177911407143\n",
      "\n",
      "\n",
      "At random state 136, the training accuracy is : 0.8956083633520715\n",
      "At random state 136, the testing accuracy is :  0.8855474871010667\n",
      "\n",
      "\n",
      "At random state 137, the training accuracy is : 0.8925528987999098\n",
      "At random state 137, the testing accuracy is :  0.8993116316534863\n",
      "\n",
      "\n",
      "At random state 138, the training accuracy is : 0.8933316360669241\n",
      "At random state 138, the testing accuracy is :  0.8972542473596041\n",
      "\n",
      "\n",
      "At random state 139, the training accuracy is : 0.8830587486799992\n",
      "At random state 139, the testing accuracy is :  0.9284372289286281\n",
      "\n",
      "\n",
      "At random state 140, the training accuracy is : 0.8935117053119221\n",
      "At random state 140, the testing accuracy is :  0.8928243201644215\n",
      "\n",
      "\n",
      "At random state 141, the training accuracy is : 0.8912566288374523\n",
      "At random state 141, the testing accuracy is :  0.9075742936903438\n",
      "\n",
      "\n",
      "At random state 142, the training accuracy is : 0.88476779389825\n",
      "At random state 142, the testing accuracy is :  0.932928900630692\n",
      "\n",
      "\n",
      "At random state 143, the training accuracy is : 0.8892981650229662\n",
      "At random state 143, the testing accuracy is :  0.9198245805265703\n",
      "\n",
      "\n",
      "At random state 144, the training accuracy is : 0.9019958251188313\n",
      "At random state 144, the testing accuracy is :  0.8458733877724208\n",
      "\n",
      "\n",
      "At random state 145, the training accuracy is : 0.8934530939047403\n",
      "At random state 145, the testing accuracy is :  0.8962592271946778\n",
      "\n",
      "\n",
      "At random state 146, the training accuracy is : 0.8932031178679151\n",
      "At random state 146, the testing accuracy is :  0.9045075182395992\n",
      "\n",
      "\n",
      "At random state 147, the training accuracy is : 0.8976197536530611\n",
      "At random state 147, the testing accuracy is :  0.874652850831793\n",
      "\n",
      "\n",
      "At random state 148, the training accuracy is : 0.9109268930701864\n",
      "At random state 148, the testing accuracy is :  0.8269373805431769\n",
      "\n",
      "\n",
      "At random state 149, the training accuracy is : 0.9001201992556246\n",
      "At random state 149, the testing accuracy is :  0.8637235416889157\n",
      "\n",
      "\n",
      "At random state 150, the training accuracy is : 0.8876139605064619\n",
      "At random state 150, the testing accuracy is :  0.9274591457031653\n",
      "\n",
      "\n",
      "At random state 151, the training accuracy is : 0.8935150063606518\n",
      "At random state 151, the testing accuracy is :  0.8986479561125263\n",
      "\n",
      "\n",
      "At random state 152, the training accuracy is : 0.8933001967317689\n",
      "At random state 152, the testing accuracy is :  0.9018378208147098\n",
      "\n",
      "\n",
      "At random state 153, the training accuracy is : 0.9183301420924326\n",
      "At random state 153, the testing accuracy is :  0.812946909214042\n",
      "\n",
      "\n",
      "At random state 154, the training accuracy is : 0.894233596407633\n",
      "At random state 154, the testing accuracy is :  0.8948398517479557\n",
      "\n",
      "\n",
      "At random state 155, the training accuracy is : 0.8948403804568049\n",
      "At random state 155, the testing accuracy is :  0.8914076480345067\n",
      "\n",
      "\n",
      "At random state 156, the training accuracy is : 0.888206142226503\n",
      "At random state 156, the testing accuracy is :  0.9169403654018602\n",
      "\n",
      "\n",
      "At random state 157, the training accuracy is : 0.8915150236875147\n",
      "At random state 157, the testing accuracy is :  0.9094139998343588\n",
      "\n",
      "\n",
      "At random state 158, the training accuracy is : 0.875328461817168\n",
      "At random state 158, the testing accuracy is :  0.9373155492344775\n",
      "\n",
      "\n",
      "At random state 159, the training accuracy is : 0.8934004118425295\n",
      "At random state 159, the testing accuracy is :  0.9007064833290117\n",
      "\n",
      "\n",
      "At random state 160, the training accuracy is : 0.8854822975102734\n",
      "At random state 160, the testing accuracy is :  0.919358720888459\n",
      "\n",
      "\n",
      "At random state 161, the training accuracy is : 0.8935916899073061\n",
      "At random state 161, the testing accuracy is :  0.9015447597324788\n",
      "\n",
      "\n",
      "At random state 162, the training accuracy is : 0.9000595575987547\n",
      "At random state 162, the testing accuracy is :  0.8745478917787504\n",
      "\n",
      "\n",
      "At random state 163, the training accuracy is : 0.9021726999098529\n",
      "At random state 163, the testing accuracy is :  0.8343130712777754\n",
      "\n",
      "\n",
      "At random state 164, the training accuracy is : 0.8877556353439834\n",
      "At random state 164, the testing accuracy is :  0.916281858507354\n",
      "\n",
      "\n",
      "At random state 165, the training accuracy is : 0.8981790050112464\n",
      "At random state 165, the testing accuracy is :  0.8795610317533616\n",
      "\n",
      "\n",
      "At random state 166, the training accuracy is : 0.8877090991294215\n",
      "At random state 166, the testing accuracy is :  0.9240048545711654\n",
      "\n",
      "\n",
      "At random state 167, the training accuracy is : 0.9075187882695537\n",
      "At random state 167, the testing accuracy is :  0.8507766644581171\n",
      "\n",
      "\n",
      "At random state 168, the training accuracy is : 0.8964343893550094\n",
      "At random state 168, the testing accuracy is :  0.8841041032614091\n",
      "\n",
      "\n",
      "At random state 169, the training accuracy is : 0.8932053687940178\n",
      "At random state 169, the testing accuracy is :  0.9004745173828754\n",
      "\n",
      "\n",
      "At random state 170, the training accuracy is : 0.9086536092916795\n",
      "At random state 170, the testing accuracy is :  0.8548425007473823\n",
      "\n",
      "\n",
      "At random state 171, the training accuracy is : 0.8901916399555645\n",
      "At random state 171, the testing accuracy is :  0.91867294924507\n",
      "\n",
      "\n",
      "At random state 172, the training accuracy is : 0.9157282770136841\n",
      "At random state 172, the testing accuracy is :  0.7723056412402035\n",
      "\n",
      "\n",
      "At random state 173, the training accuracy is : 0.9030041435921854\n",
      "At random state 173, the testing accuracy is :  0.8653948474616733\n",
      "\n",
      "\n",
      "At random state 174, the training accuracy is : 0.8906049679407497\n",
      "At random state 174, the testing accuracy is :  0.9178588473102794\n",
      "\n",
      "\n",
      "At random state 175, the training accuracy is : 0.8982420689762853\n",
      "At random state 175, the testing accuracy is :  0.8810276142227013\n",
      "\n",
      "\n",
      "At random state 176, the training accuracy is : 0.8854027501436421\n",
      "At random state 176, the testing accuracy is :  0.9296310498236738\n",
      "\n",
      "\n",
      "At random state 177, the training accuracy is : 0.8992386938623457\n",
      "At random state 177, the testing accuracy is :  0.8707740029446358\n",
      "\n",
      "\n",
      "At random state 178, the training accuracy is : 0.9180366643564145\n",
      "At random state 178, the testing accuracy is :  0.7851309756199102\n",
      "\n",
      "\n",
      "At random state 179, the training accuracy is : 0.901055308375685\n",
      "At random state 179, the testing accuracy is :  0.8551043082897288\n",
      "\n",
      "\n",
      "At random state 180, the training accuracy is : 0.890926663186124\n",
      "At random state 180, the testing accuracy is :  0.9093301243499996\n",
      "\n",
      "\n",
      "At random state 181, the training accuracy is : 0.8991852763733922\n",
      "At random state 181, the testing accuracy is :  0.8577898365789027\n",
      "\n",
      "\n",
      "At random state 182, the training accuracy is : 0.8779587363161591\n",
      "At random state 182, the testing accuracy is :  0.9400105628261336\n",
      "\n",
      "\n",
      "At random state 183, the training accuracy is : 0.9030973110571392\n",
      "At random state 183, the testing accuracy is :  0.8643260840353397\n",
      "\n",
      "\n"
     ]
    },
    {
     "name": "stdout",
     "output_type": "stream",
     "text": [
      "At random state 184, the training accuracy is : 0.8981877416646378\n",
      "At random state 184, the testing accuracy is :  0.8727187302970514\n",
      "\n",
      "\n",
      "At random state 185, the training accuracy is : 0.8939168218246816\n",
      "At random state 185, the testing accuracy is :  0.898887621543238\n",
      "\n",
      "\n",
      "At random state 186, the training accuracy is : 0.8935882223859047\n",
      "At random state 186, the testing accuracy is :  0.8988275748226298\n",
      "\n",
      "\n",
      "At random state 187, the training accuracy is : 0.8851708934466431\n",
      "At random state 187, the testing accuracy is :  0.9184471633776827\n",
      "\n",
      "\n",
      "At random state 188, the training accuracy is : 0.8876927921526457\n",
      "At random state 188, the testing accuracy is :  0.9197684536464902\n",
      "\n",
      "\n",
      "At random state 189, the training accuracy is : 0.8920994241185314\n",
      "At random state 189, the testing accuracy is :  0.8903656519484899\n",
      "\n",
      "\n",
      "At random state 190, the training accuracy is : 0.8956216017632428\n",
      "At random state 190, the testing accuracy is :  0.8929189526974003\n",
      "\n",
      "\n",
      "At random state 191, the training accuracy is : 0.9011588501907557\n",
      "At random state 191, the testing accuracy is :  0.8456106588889749\n",
      "\n",
      "\n",
      "At random state 192, the training accuracy is : 0.8873422976179267\n",
      "At random state 192, the testing accuracy is :  0.9189204146291657\n",
      "\n",
      "\n",
      "At random state 193, the training accuracy is : 0.8934847703927482\n",
      "At random state 193, the testing accuracy is :  0.8970824566485082\n",
      "\n",
      "\n",
      "At random state 194, the training accuracy is : 0.8884575008545278\n",
      "At random state 194, the testing accuracy is :  0.9147644362191086\n",
      "\n",
      "\n",
      "At random state 195, the training accuracy is : 0.9036646182989132\n",
      "At random state 195, the testing accuracy is :  0.8611846030332402\n",
      "\n",
      "\n",
      "At random state 196, the training accuracy is : 0.900157140647744\n",
      "At random state 196, the testing accuracy is :  0.8701863354359656\n",
      "\n",
      "\n",
      "At random state 197, the training accuracy is : 0.8955738685329722\n",
      "At random state 197, the testing accuracy is :  0.8808846391433636\n",
      "\n",
      "\n",
      "At random state 198, the training accuracy is : 0.8967559866119226\n",
      "At random state 198, the testing accuracy is :  0.8805097625013163\n",
      "\n",
      "\n",
      "At random state 199, the training accuracy is : 0.8983698235805316\n",
      "At random state 199, the testing accuracy is :  0.8812186688899938\n",
      "\n",
      "\n"
     ]
    }
   ],
   "source": [
    "for i in range(1,200):\n",
    "    x_train,x_test,y_train,y_test = train_test_split(x,y,test_size=.20,random_state=i)\n",
    "    lr.fit(x_train, y_train)\n",
    "    pred_train = lr.predict(x_train)\n",
    "    pred_test = lr.predict(x_test)\n",
    "    print(f\"At random state {i}, the training accuracy is : {r2_score(y_train,pred_train)}\")\n",
    "    print(f\"At random state {i}, the testing accuracy is :  {r2_score(y_test,pred_test)}\")\n",
    "    print(\"\\n\")"
   ]
  },
  {
   "cell_type": "markdown",
   "id": "64e94793",
   "metadata": {},
   "source": [
    "Hence we chose random state 63 since both training and testing accuracy is close by and higher in value compared to others"
   ]
  },
  {
   "cell_type": "code",
   "execution_count": 121,
   "id": "d4140871",
   "metadata": {},
   "outputs": [],
   "source": [
    "x_train,x_test,y_train,y_test = train_test_split(x,y,test_size=0.20,random_state=63)"
   ]
  },
  {
   "cell_type": "code",
   "execution_count": 122,
   "id": "0b75b484",
   "metadata": {},
   "outputs": [
    {
     "data": {
      "text/html": [
       "<style>#sk-container-id-1 {color: black;background-color: white;}#sk-container-id-1 pre{padding: 0;}#sk-container-id-1 div.sk-toggleable {background-color: white;}#sk-container-id-1 label.sk-toggleable__label {cursor: pointer;display: block;width: 100%;margin-bottom: 0;padding: 0.3em;box-sizing: border-box;text-align: center;}#sk-container-id-1 label.sk-toggleable__label-arrow:before {content: \"▸\";float: left;margin-right: 0.25em;color: #696969;}#sk-container-id-1 label.sk-toggleable__label-arrow:hover:before {color: black;}#sk-container-id-1 div.sk-estimator:hover label.sk-toggleable__label-arrow:before {color: black;}#sk-container-id-1 div.sk-toggleable__content {max-height: 0;max-width: 0;overflow: hidden;text-align: left;background-color: #f0f8ff;}#sk-container-id-1 div.sk-toggleable__content pre {margin: 0.2em;color: black;border-radius: 0.25em;background-color: #f0f8ff;}#sk-container-id-1 input.sk-toggleable__control:checked~div.sk-toggleable__content {max-height: 200px;max-width: 100%;overflow: auto;}#sk-container-id-1 input.sk-toggleable__control:checked~label.sk-toggleable__label-arrow:before {content: \"▾\";}#sk-container-id-1 div.sk-estimator input.sk-toggleable__control:checked~label.sk-toggleable__label {background-color: #d4ebff;}#sk-container-id-1 div.sk-label input.sk-toggleable__control:checked~label.sk-toggleable__label {background-color: #d4ebff;}#sk-container-id-1 input.sk-hidden--visually {border: 0;clip: rect(1px 1px 1px 1px);clip: rect(1px, 1px, 1px, 1px);height: 1px;margin: -1px;overflow: hidden;padding: 0;position: absolute;width: 1px;}#sk-container-id-1 div.sk-estimator {font-family: monospace;background-color: #f0f8ff;border: 1px dotted black;border-radius: 0.25em;box-sizing: border-box;margin-bottom: 0.5em;}#sk-container-id-1 div.sk-estimator:hover {background-color: #d4ebff;}#sk-container-id-1 div.sk-parallel-item::after {content: \"\";width: 100%;border-bottom: 1px solid gray;flex-grow: 1;}#sk-container-id-1 div.sk-label:hover label.sk-toggleable__label {background-color: #d4ebff;}#sk-container-id-1 div.sk-serial::before {content: \"\";position: absolute;border-left: 1px solid gray;box-sizing: border-box;top: 0;bottom: 0;left: 50%;z-index: 0;}#sk-container-id-1 div.sk-serial {display: flex;flex-direction: column;align-items: center;background-color: white;padding-right: 0.2em;padding-left: 0.2em;position: relative;}#sk-container-id-1 div.sk-item {position: relative;z-index: 1;}#sk-container-id-1 div.sk-parallel {display: flex;align-items: stretch;justify-content: center;background-color: white;position: relative;}#sk-container-id-1 div.sk-item::before, #sk-container-id-1 div.sk-parallel-item::before {content: \"\";position: absolute;border-left: 1px solid gray;box-sizing: border-box;top: 0;bottom: 0;left: 50%;z-index: -1;}#sk-container-id-1 div.sk-parallel-item {display: flex;flex-direction: column;z-index: 1;position: relative;background-color: white;}#sk-container-id-1 div.sk-parallel-item:first-child::after {align-self: flex-end;width: 50%;}#sk-container-id-1 div.sk-parallel-item:last-child::after {align-self: flex-start;width: 50%;}#sk-container-id-1 div.sk-parallel-item:only-child::after {width: 0;}#sk-container-id-1 div.sk-dashed-wrapped {border: 1px dashed gray;margin: 0 0.4em 0.5em 0.4em;box-sizing: border-box;padding-bottom: 0.4em;background-color: white;}#sk-container-id-1 div.sk-label label {font-family: monospace;font-weight: bold;display: inline-block;line-height: 1.2em;}#sk-container-id-1 div.sk-label-container {text-align: center;}#sk-container-id-1 div.sk-container {/* jupyter's `normalize.less` sets `[hidden] { display: none; }` but bootstrap.min.css set `[hidden] { display: none !important; }` so we also need the `!important` here to be able to override the default hidden behavior on the sphinx rendered scikit-learn.org. See: https://github.com/scikit-learn/scikit-learn/issues/21755 */display: inline-block !important;position: relative;}#sk-container-id-1 div.sk-text-repr-fallback {display: none;}</style><div id=\"sk-container-id-1\" class=\"sk-top-container\"><div class=\"sk-text-repr-fallback\"><pre>LinearRegression()</pre><b>In a Jupyter environment, please rerun this cell to show the HTML representation or trust the notebook. <br />On GitHub, the HTML representation is unable to render, please try loading this page with nbviewer.org.</b></div><div class=\"sk-container\" hidden><div class=\"sk-item\"><div class=\"sk-estimator sk-toggleable\"><input class=\"sk-toggleable__control sk-hidden--visually\" id=\"sk-estimator-id-1\" type=\"checkbox\" checked><label for=\"sk-estimator-id-1\" class=\"sk-toggleable__label sk-toggleable__label-arrow\">LinearRegression</label><div class=\"sk-toggleable__content\"><pre>LinearRegression()</pre></div></div></div></div></div>"
      ],
      "text/plain": [
       "LinearRegression()"
      ]
     },
     "execution_count": 122,
     "metadata": {},
     "output_type": "execute_result"
    }
   ],
   "source": [
    "lr.fit(x_train,y_train)"
   ]
  },
  {
   "cell_type": "code",
   "execution_count": 123,
   "id": "01085631",
   "metadata": {},
   "outputs": [],
   "source": [
    "pred_test = lr.predict(x_test)"
   ]
  },
  {
   "cell_type": "code",
   "execution_count": 124,
   "id": "ea52d3f8",
   "metadata": {},
   "outputs": [
    {
     "name": "stdout",
     "output_type": "stream",
     "text": [
      "0.8964376150854272\n"
     ]
    }
   ],
   "source": [
    "print(r2_score(y_test,pred_test))"
   ]
  },
  {
   "cell_type": "markdown",
   "id": "5454fbf3",
   "metadata": {},
   "source": [
    "We will draw the linear regression plot to see the best fit line"
   ]
  },
  {
   "cell_type": "code",
   "execution_count": 125,
   "id": "7289ba9d",
   "metadata": {},
   "outputs": [
    {
     "data": {
      "image/png": "[encoded data removed]",
      "text/plain": [
       "<Figure size 576x432 with 1 Axes>"
      ]
     },
     "metadata": {
      "needs_background": "light"
     },
     "output_type": "display_data"
    }
   ],
   "source": [
    "plt.figure(figsize=(8,6))\n",
    "plt.scatter(x=y_test, y=pred_test, color='r')\n",
    "plt.plot(y_test,y_test,color='b')\n",
    "plt.xlabel('Actual charges', fontsize=14)\n",
    "plt.ylabel('Predicted charges', fontsize=14)\n",
    "plt.title('Linear Regression',fontsize=18)\n",
    "plt.show()"
   ]
  },
  {
   "cell_type": "markdown",
   "id": "d15d1038",
   "metadata": {},
   "source": [
    "The best fit line seems to be covering most of the points"
   ]
  },
  {
   "cell_type": "code",
   "execution_count": 126,
   "id": "690f053b",
   "metadata": {},
   "outputs": [],
   "source": [
    "# importing all the required libraries\n",
    "\n",
    "from sklearn.model_selection import train_test_split\n",
    "from sklearn.linear_model import LinearRegression,Lasso,Ridge,ElasticNet\n",
    "from sklearn.svm import SVR\n",
    "from sklearn.tree import DecisionTreeRegressor\n",
    "from sklearn.ensemble import RandomForestRegressor\n",
    "from sklearn.neighbors import KNeighborsRegressor\n",
    "from sklearn.linear_model import SGDRegressor\n",
    "from sklearn.ensemble import GradientBoostingRegressor\n",
    "from sklearn.ensemble import AdaBoostRegressor\n",
    "from sklearn.ensemble import ExtraTreesRegressor\n",
    "\n",
    "from sklearn.model_selection import cross_val_score\n",
    "from sklearn.model_selection import GridSearchCV"
   ]
  },
  {
   "cell_type": "code",
   "execution_count": 127,
   "id": "4bfd9e1a",
   "metadata": {},
   "outputs": [],
   "source": [
    "# creating a function to run all the regressors\n",
    "\n",
    "def regressor(model, x, y):\n",
    "    x_train,x_test,y_train,y_test = train_test_split(x, y, test_size=0.2, random_state=63)\n",
    "    \n",
    "    # Training the model\n",
    "    model.fit(x_train, y_train)\n",
    "    \n",
    "    # Predicting y_test\n",
    "    pred = model.predict(x_test)\n",
    "    \n",
    "    # Root Mean Square Error (RMSE)\n",
    "    rmse = mean_squared_error(y_test, pred, squared=False)\n",
    "    print(\"Root Mean Square Error is:\", rmse)\n",
    "    \n",
    "    # R2 score\n",
    "    r2 = r2_score(y_test, pred, multioutput='variance_weighted')*100\n",
    "    print(\"R2 Score is:\", r2)\n",
    "    \n",
    "    # Cross Validation Score\n",
    "    cv_score = (cross_val_score(model, x, y, cv=5).mean())*100\n",
    "    print(\"Cross Validation Score is:\", cv_score)\n",
    "    \n",
    "    # Result of r2 score - cv score\n",
    "    result = r2 - cv_score\n",
    "    print(\"R2 Score - Cross Validation Score is\", result)"
   ]
  },
  {
   "cell_type": "markdown",
   "id": "9707b5e0",
   "metadata": {},
   "source": [
    "### Linear Regression"
   ]
  },
  {
   "cell_type": "code",
   "execution_count": 128,
   "id": "80f42010",
   "metadata": {},
   "outputs": [
    {
     "name": "stdout",
     "output_type": "stream",
     "text": [
      "Root Mean Square Error is: 1.5984812462271463\n",
      "R2 Score is: 89.64376150854272\n",
      "Cross Validation Score is: 88.57406146589943\n",
      "R2 Score - Cross Validation Score is 1.0697000426432908\n"
     ]
    }
   ],
   "source": [
    "model=LinearRegression()\n",
    "regressor(model, x, y)"
   ]
  },
  {
   "cell_type": "markdown",
   "id": "b9bdb606",
   "metadata": {},
   "source": [
    "### L1 -- Lasso Regression"
   ]
  },
  {
   "cell_type": "code",
   "execution_count": 129,
   "id": "d9cb1697",
   "metadata": {},
   "outputs": [
    {
     "name": "stdout",
     "output_type": "stream",
     "text": [
      "Root Mean Square Error is: 1.5984597228308777\n",
      "R2 Score is: 89.64404039817595\n",
      "Cross Validation Score is: 88.57431267663263\n",
      "R2 Score - Cross Validation Score is 1.069727721543316\n"
     ]
    }
   ],
   "source": [
    "model=Lasso(alpha=0.0001)\n",
    "regressor(model, x, y)"
   ]
  },
  {
   "cell_type": "markdown",
   "id": "10cd1ee2",
   "metadata": {},
   "source": [
    "### L2 -- Ridge Regression"
   ]
  },
  {
   "cell_type": "code",
   "execution_count": 130,
   "id": "047a4e86",
   "metadata": {},
   "outputs": [
    {
     "name": "stdout",
     "output_type": "stream",
     "text": [
      "Root Mean Square Error is: 1.5984808179278613\n",
      "R2 Score is: 89.64376705827183\n",
      "Cross Validation Score is: 88.57406269434074\n",
      "R2 Score - Cross Validation Score is 1.0697043639310948\n"
     ]
    }
   ],
   "source": [
    "model=Ridge(alpha=0.0001)\n",
    "regressor(model, x, y)"
   ]
  },
  {
   "cell_type": "markdown",
   "id": "ce4e1388",
   "metadata": {},
   "source": [
    "### Elastic Net"
   ]
  },
  {
   "cell_type": "code",
   "execution_count": 131,
   "id": "a0073843",
   "metadata": {},
   "outputs": [
    {
     "name": "stdout",
     "output_type": "stream",
     "text": [
      "Root Mean Square Error is: 1.5984365118532644\n",
      "R2 Score is: 89.64434115045371\n",
      "Cross Validation Score is: 88.5742882768978\n",
      "R2 Score - Cross Validation Score is 1.070052873555909\n"
     ]
    }
   ],
   "source": [
    "model=ElasticNet(alpha=0.0001)\n",
    "regressor(model, x, y)"
   ]
  },
  {
   "cell_type": "markdown",
   "id": "f4c01c03",
   "metadata": {},
   "source": [
    "### Support Vector Regression"
   ]
  },
  {
   "cell_type": "code",
   "execution_count": 132,
   "id": "16d19999",
   "metadata": {},
   "outputs": [
    {
     "name": "stdout",
     "output_type": "stream",
     "text": [
      "Root Mean Square Error is: 0.8527392305540468\n",
      "R2 Score is: 97.05273328795187\n",
      "Cross Validation Score is: 90.41170072126675\n",
      "R2 Score - Cross Validation Score is 6.641032566685112\n"
     ]
    }
   ],
   "source": [
    "model=SVR(kernel='rbf')\n",
    "regressor(model, x, y)"
   ]
  },
  {
   "cell_type": "code",
   "execution_count": 133,
   "id": "09d9ba8f",
   "metadata": {},
   "outputs": [
    {
     "name": "stdout",
     "output_type": "stream",
     "text": [
      "Root Mean Square Error is: 2.30554841903017\n",
      "R2 Score is: 78.45554824593879\n",
      "Cross Validation Score is: 78.01024162630348\n",
      "R2 Score - Cross Validation Score is 0.4453066196353035\n"
     ]
    }
   ],
   "source": [
    "model=SVR(kernel='poly')\n",
    "regressor(model, x, y)"
   ]
  },
  {
   "cell_type": "code",
   "execution_count": 134,
   "id": "a4ce2581",
   "metadata": {},
   "outputs": [
    {
     "name": "stdout",
     "output_type": "stream",
     "text": [
      "Root Mean Square Error is: 1.474829809298987\n",
      "R2 Score is: 91.18401654718471\n",
      "Cross Validation Score is: 87.63382119898789\n",
      "R2 Score - Cross Validation Score is 3.550195348196823\n"
     ]
    }
   ],
   "source": [
    "model=SVR(kernel='linear')\n",
    "regressor(model, x, y)"
   ]
  },
  {
   "cell_type": "markdown",
   "id": "95019d88",
   "metadata": {},
   "source": [
    "### Decision Tree Regressor"
   ]
  },
  {
   "cell_type": "code",
   "execution_count": 135,
   "id": "afcd7806",
   "metadata": {},
   "outputs": [
    {
     "name": "stdout",
     "output_type": "stream",
     "text": [
      "Root Mean Square Error is: 1.0860478810807563\n",
      "R2 Score is: 95.21937258571602\n",
      "Cross Validation Score is: 95.40282300123675\n",
      "R2 Score - Cross Validation Score is -0.18345041552073837\n"
     ]
    }
   ],
   "source": [
    "model=DecisionTreeRegressor(random_state=63)\n",
    "regressor(model, x, y)"
   ]
  },
  {
   "cell_type": "markdown",
   "id": "665546f8",
   "metadata": {},
   "source": [
    "### Random Forest Regressor"
   ]
  },
  {
   "cell_type": "code",
   "execution_count": 136,
   "id": "f4ae7cb2",
   "metadata": {},
   "outputs": [
    {
     "name": "stdout",
     "output_type": "stream",
     "text": [
      "Root Mean Square Error is: 0.6729068100413297\n",
      "R2 Score is: 98.16474337945674\n",
      "Cross Validation Score is: 97.56902974029373\n",
      "R2 Score - Cross Validation Score is 0.5957136391630087\n"
     ]
    }
   ],
   "source": [
    "model=RandomForestRegressor()\n",
    "regressor(model, x, y)"
   ]
  },
  {
   "cell_type": "markdown",
   "id": "381fd54d",
   "metadata": {},
   "source": [
    "### K Neighbors Regressor"
   ]
  },
  {
   "cell_type": "code",
   "execution_count": 137,
   "id": "bdf726cf",
   "metadata": {},
   "outputs": [
    {
     "name": "stdout",
     "output_type": "stream",
     "text": [
      "Root Mean Square Error is: 0.9709119424541032\n",
      "R2 Score is: 96.17926744839079\n",
      "Cross Validation Score is: 93.58043941034188\n",
      "R2 Score - Cross Validation Score is 2.5988280380489073\n"
     ]
    }
   ],
   "source": [
    "model=KNeighborsRegressor()\n",
    "regressor(model, x, y)"
   ]
  },
  {
   "cell_type": "markdown",
   "id": "e701d837",
   "metadata": {},
   "source": [
    "### SGD Regressor"
   ]
  },
  {
   "cell_type": "code",
   "execution_count": 139,
   "id": "1abface2",
   "metadata": {},
   "outputs": [
    {
     "name": "stdout",
     "output_type": "stream",
     "text": [
      "Root Mean Square Error is: 1.60186020143916\n",
      "R2 Score is: 89.59993209055041\n",
      "Cross Validation Score is: 88.63677450564674\n",
      "R2 Score - Cross Validation Score is 0.9631575849036693\n"
     ]
    }
   ],
   "source": [
    "model=SGDRegressor()\n",
    "regressor(model, x, y)"
   ]
  },
  {
   "cell_type": "markdown",
   "id": "3dac98d3",
   "metadata": {},
   "source": [
    "### Gradient Boosting Regressor"
   ]
  },
  {
   "cell_type": "code",
   "execution_count": 140,
   "id": "62b39ba3",
   "metadata": {},
   "outputs": [
    {
     "name": "stdout",
     "output_type": "stream",
     "text": [
      "Root Mean Square Error is: 0.6369932057410841\n",
      "R2 Score is: 98.35541413741242\n",
      "Cross Validation Score is: 97.81901061403889\n",
      "R2 Score - Cross Validation Score is 0.5364035233735365\n"
     ]
    }
   ],
   "source": [
    "model=GradientBoostingRegressor()\n",
    "regressor(model, x, y)"
   ]
  },
  {
   "cell_type": "markdown",
   "id": "01c88550",
   "metadata": {},
   "source": [
    "### Ada Boost Regressor"
   ]
  },
  {
   "cell_type": "code",
   "execution_count": 147,
   "id": "67246a01",
   "metadata": {},
   "outputs": [
    {
     "name": "stdout",
     "output_type": "stream",
     "text": [
      "Root Mean Square Error is: 0.9971568855131763\n",
      "R2 Score is: 95.96991749435001\n",
      "Cross Validation Score is: 96.04497890846956\n",
      "R2 Score - Cross Validation Score is -0.07506141411954559\n"
     ]
    }
   ],
   "source": [
    "model=AdaBoostRegressor(n_estimators=300, learning_rate=1.05, random_state=63)\n",
    "regressor(model, x, y)"
   ]
  },
  {
   "cell_type": "markdown",
   "id": "d5e8d830",
   "metadata": {},
   "source": [
    "### Extra Trees Regressor"
   ]
  },
  {
   "cell_type": "code",
   "execution_count": 144,
   "id": "16a476c1",
   "metadata": {},
   "outputs": [
    {
     "name": "stdout",
     "output_type": "stream",
     "text": [
      "Root Mean Square Error is: 0.8078334721649093\n",
      "R2 Score is: 97.35496976769925\n",
      "Cross Validation Score is: 93.86085582692193\n",
      "R2 Score - Cross Validation Score is 3.4941139407773107\n"
     ]
    }
   ],
   "source": [
    "model=ExtraTreesRegressor(n_estimators=200, max_features='sqrt', n_jobs=6)\n",
    "regressor(model, x, y)"
   ]
  },
  {
   "cell_type": "markdown",
   "id": "219a072c",
   "metadata": {},
   "source": [
    "Comparing all the above the Gradient Boosting Regressor gives the best results since the R2 Score - Cross Validation Score are closest and the highest amount all the models."
   ]
  },
  {
   "cell_type": "markdown",
   "id": "2c0329ba",
   "metadata": {},
   "source": [
    "## Hyper parameter tuning"
   ]
  },
  {
   "cell_type": "code",
   "execution_count": 162,
   "id": "bd9f7127",
   "metadata": {},
   "outputs": [],
   "source": [
    " GradientBoostingRegressor?"
   ]
  },
  {
   "cell_type": "code",
   "execution_count": 157,
   "id": "592f60c3",
   "metadata": {},
   "outputs": [],
   "source": [
    "# creating parameters list to pass into GridSearchCV\n",
    "\n",
    "parameters = {'loss' : ['squared_error', 'absolute_error', 'huber', 'quantile'],\n",
    "              'learning_rate': [0.1 , 0.5 , 1, 1.5],\n",
    "              'criterion': ['friedman_mse', 'squared_error', 'mse'],\n",
    "              'max_depth' : [3 , 4 ,5 ],\n",
    "              'max_features' : ['auto', 'sqrt', 'log2']}"
   ]
  },
  {
   "cell_type": "code",
   "execution_count": 158,
   "id": "6b9134d8",
   "metadata": {},
   "outputs": [],
   "source": [
    "GCV = GridSearchCV(GradientBoostingRegressor(), parameters, cv=5)"
   ]
  },
  {
   "cell_type": "code",
   "execution_count": 159,
   "id": "c0aa7831",
   "metadata": {},
   "outputs": [
    {
     "data": {
      "text/html": [
       "<style>#sk-container-id-2 {color: black;background-color: white;}#sk-container-id-2 pre{padding: 0;}#sk-container-id-2 div.sk-toggleable {background-color: white;}#sk-container-id-2 label.sk-toggleable__label {cursor: pointer;display: block;width: 100%;margin-bottom: 0;padding: 0.3em;box-sizing: border-box;text-align: center;}#sk-container-id-2 label.sk-toggleable__label-arrow:before {content: \"▸\";float: left;margin-right: 0.25em;color: #696969;}#sk-container-id-2 label.sk-toggleable__label-arrow:hover:before {color: black;}#sk-container-id-2 div.sk-estimator:hover label.sk-toggleable__label-arrow:before {color: black;}#sk-container-id-2 div.sk-toggleable__content {max-height: 0;max-width: 0;overflow: hidden;text-align: left;background-color: #f0f8ff;}#sk-container-id-2 div.sk-toggleable__content pre {margin: 0.2em;color: black;border-radius: 0.25em;background-color: #f0f8ff;}#sk-container-id-2 input.sk-toggleable__control:checked~div.sk-toggleable__content {max-height: 200px;max-width: 100%;overflow: auto;}#sk-container-id-2 input.sk-toggleable__control:checked~label.sk-toggleable__label-arrow:before {content: \"▾\";}#sk-container-id-2 div.sk-estimator input.sk-toggleable__control:checked~label.sk-toggleable__label {background-color: #d4ebff;}#sk-container-id-2 div.sk-label input.sk-toggleable__control:checked~label.sk-toggleable__label {background-color: #d4ebff;}#sk-container-id-2 input.sk-hidden--visually {border: 0;clip: rect(1px 1px 1px 1px);clip: rect(1px, 1px, 1px, 1px);height: 1px;margin: -1px;overflow: hidden;padding: 0;position: absolute;width: 1px;}#sk-container-id-2 div.sk-estimator {font-family: monospace;background-color: #f0f8ff;border: 1px dotted black;border-radius: 0.25em;box-sizing: border-box;margin-bottom: 0.5em;}#sk-container-id-2 div.sk-estimator:hover {background-color: #d4ebff;}#sk-container-id-2 div.sk-parallel-item::after {content: \"\";width: 100%;border-bottom: 1px solid gray;flex-grow: 1;}#sk-container-id-2 div.sk-label:hover label.sk-toggleable__label {background-color: #d4ebff;}#sk-container-id-2 div.sk-serial::before {content: \"\";position: absolute;border-left: 1px solid gray;box-sizing: border-box;top: 0;bottom: 0;left: 50%;z-index: 0;}#sk-container-id-2 div.sk-serial {display: flex;flex-direction: column;align-items: center;background-color: white;padding-right: 0.2em;padding-left: 0.2em;position: relative;}#sk-container-id-2 div.sk-item {position: relative;z-index: 1;}#sk-container-id-2 div.sk-parallel {display: flex;align-items: stretch;justify-content: center;background-color: white;position: relative;}#sk-container-id-2 div.sk-item::before, #sk-container-id-2 div.sk-parallel-item::before {content: \"\";position: absolute;border-left: 1px solid gray;box-sizing: border-box;top: 0;bottom: 0;left: 50%;z-index: -1;}#sk-container-id-2 div.sk-parallel-item {display: flex;flex-direction: column;z-index: 1;position: relative;background-color: white;}#sk-container-id-2 div.sk-parallel-item:first-child::after {align-self: flex-end;width: 50%;}#sk-container-id-2 div.sk-parallel-item:last-child::after {align-self: flex-start;width: 50%;}#sk-container-id-2 div.sk-parallel-item:only-child::after {width: 0;}#sk-container-id-2 div.sk-dashed-wrapped {border: 1px dashed gray;margin: 0 0.4em 0.5em 0.4em;box-sizing: border-box;padding-bottom: 0.4em;background-color: white;}#sk-container-id-2 div.sk-label label {font-family: monospace;font-weight: bold;display: inline-block;line-height: 1.2em;}#sk-container-id-2 div.sk-label-container {text-align: center;}#sk-container-id-2 div.sk-container {/* jupyter's `normalize.less` sets `[hidden] { display: none; }` but bootstrap.min.css set `[hidden] { display: none !important; }` so we also need the `!important` here to be able to override the default hidden behavior on the sphinx rendered scikit-learn.org. See: https://github.com/scikit-learn/scikit-learn/issues/21755 */display: inline-block !important;position: relative;}#sk-container-id-2 div.sk-text-repr-fallback {display: none;}</style><div id=\"sk-container-id-2\" class=\"sk-top-container\"><div class=\"sk-text-repr-fallback\"><pre>GridSearchCV(cv=5, estimator=GradientBoostingRegressor(),\n",
       "             param_grid={&#x27;criterion&#x27;: [&#x27;friedman_mse&#x27;, &#x27;squared_error&#x27;, &#x27;mse&#x27;],\n",
       "                         &#x27;learning_rate&#x27;: [0.1, 0.5, 1, 1.5],\n",
       "                         &#x27;loss&#x27;: [&#x27;squared_error&#x27;, &#x27;absolute_error&#x27;, &#x27;huber&#x27;,\n",
       "                                  &#x27;quantile&#x27;],\n",
       "                         &#x27;max_depth&#x27;: [3, 4, 5],\n",
       "                         &#x27;max_features&#x27;: [&#x27;auto&#x27;, &#x27;sqrt&#x27;, &#x27;log2&#x27;]})</pre><b>In a Jupyter environment, please rerun this cell to show the HTML representation or trust the notebook. <br />On GitHub, the HTML representation is unable to render, please try loading this page with nbviewer.org.</b></div><div class=\"sk-container\" hidden><div class=\"sk-item sk-dashed-wrapped\"><div class=\"sk-label-container\"><div class=\"sk-label sk-toggleable\"><input class=\"sk-toggleable__control sk-hidden--visually\" id=\"sk-estimator-id-2\" type=\"checkbox\" ><label for=\"sk-estimator-id-2\" class=\"sk-toggleable__label sk-toggleable__label-arrow\">GridSearchCV</label><div class=\"sk-toggleable__content\"><pre>GridSearchCV(cv=5, estimator=GradientBoostingRegressor(),\n",
       "             param_grid={&#x27;criterion&#x27;: [&#x27;friedman_mse&#x27;, &#x27;squared_error&#x27;, &#x27;mse&#x27;],\n",
       "                         &#x27;learning_rate&#x27;: [0.1, 0.5, 1, 1.5],\n",
       "                         &#x27;loss&#x27;: [&#x27;squared_error&#x27;, &#x27;absolute_error&#x27;, &#x27;huber&#x27;,\n",
       "                                  &#x27;quantile&#x27;],\n",
       "                         &#x27;max_depth&#x27;: [3, 4, 5],\n",
       "                         &#x27;max_features&#x27;: [&#x27;auto&#x27;, &#x27;sqrt&#x27;, &#x27;log2&#x27;]})</pre></div></div></div><div class=\"sk-parallel\"><div class=\"sk-parallel-item\"><div class=\"sk-item\"><div class=\"sk-label-container\"><div class=\"sk-label sk-toggleable\"><input class=\"sk-toggleable__control sk-hidden--visually\" id=\"sk-estimator-id-3\" type=\"checkbox\" ><label for=\"sk-estimator-id-3\" class=\"sk-toggleable__label sk-toggleable__label-arrow\">estimator: GradientBoostingRegressor</label><div class=\"sk-toggleable__content\"><pre>GradientBoostingRegressor()</pre></div></div></div><div class=\"sk-serial\"><div class=\"sk-item\"><div class=\"sk-estimator sk-toggleable\"><input class=\"sk-toggleable__control sk-hidden--visually\" id=\"sk-estimator-id-4\" type=\"checkbox\" ><label for=\"sk-estimator-id-4\" class=\"sk-toggleable__label sk-toggleable__label-arrow\">GradientBoostingRegressor</label><div class=\"sk-toggleable__content\"><pre>GradientBoostingRegressor()</pre></div></div></div></div></div></div></div></div></div></div>"
      ],
      "text/plain": [
       "GridSearchCV(cv=5, estimator=GradientBoostingRegressor(),\n",
       "             param_grid={'criterion': ['friedman_mse', 'squared_error', 'mse'],\n",
       "                         'learning_rate': [0.1, 0.5, 1, 1.5],\n",
       "                         'loss': ['squared_error', 'absolute_error', 'huber',\n",
       "                                  'quantile'],\n",
       "                         'max_depth': [3, 4, 5],\n",
       "                         'max_features': ['auto', 'sqrt', 'log2']})"
      ]
     },
     "execution_count": 159,
     "metadata": {},
     "output_type": "execute_result"
    }
   ],
   "source": [
    "GCV.fit(x_train,y_train)"
   ]
  },
  {
   "cell_type": "code",
   "execution_count": 160,
   "id": "70a26a41",
   "metadata": {},
   "outputs": [
    {
     "data": {
      "text/plain": [
       "{'criterion': 'mse',\n",
       " 'learning_rate': 0.1,\n",
       " 'loss': 'squared_error',\n",
       " 'max_depth': 3,\n",
       " 'max_features': 'auto'}"
      ]
     },
     "execution_count": 160,
     "metadata": {},
     "output_type": "execute_result"
    }
   ],
   "source": [
    "GCV.best_params_      # printing best parameters found by GridSearchCV"
   ]
  },
  {
   "cell_type": "markdown",
   "id": "52c55584",
   "metadata": {},
   "source": [
    "We got the best parameters using Gridsearch CV"
   ]
  },
  {
   "cell_type": "code",
   "execution_count": 163,
   "id": "e95c6e8c",
   "metadata": {},
   "outputs": [],
   "source": [
    "final_model = GradientBoostingRegressor(criterion= 'mse', learning_rate= 0.1, loss= 'squared_error', max_depth = 3, max_features = 'auto')"
   ]
  },
  {
   "cell_type": "code",
   "execution_count": 164,
   "id": "c7976bfb",
   "metadata": {},
   "outputs": [],
   "source": [
    "final_fit = final_model.fit(x_train,y_train)   # final fit"
   ]
  },
  {
   "cell_type": "code",
   "execution_count": 166,
   "id": "93f7088e",
   "metadata": {},
   "outputs": [],
   "source": [
    "final_pred = final_model.predict(x_test)   # predicting with best parameters"
   ]
  },
  {
   "cell_type": "code",
   "execution_count": 167,
   "id": "df0930f3",
   "metadata": {},
   "outputs": [
    {
     "name": "stdout",
     "output_type": "stream",
     "text": [
      "R2 score for the Best Model is: 98.36678963581484\n"
     ]
    }
   ],
   "source": [
    "best_r2=r2_score(y_test,final_pred,multioutput='variance_weighted')*100   # checking final r2_score\n",
    "print(\"R2 score for the Best Model is:\", best_r2)"
   ]
  },
  {
   "cell_type": "markdown",
   "id": "c12c5e05",
   "metadata": {},
   "source": [
    "We used Hyper Parameter Tuning on the final model to obtained the best r2_score."
   ]
  },
  {
   "cell_type": "markdown",
   "id": "29ca554b",
   "metadata": {},
   "source": [
    "# Saving the model in pickle Format"
   ]
  },
  {
   "cell_type": "code",
   "execution_count": 168,
   "id": "ed12177b",
   "metadata": {},
   "outputs": [],
   "source": [
    "# pickeling or serialization of a file\n",
    "import pickle\n",
    "filename = 'Advertising_Sales_Channel_Prediction.pkl'\n",
    "pickle.dump(final_model, open(filename, 'wb'))"
   ]
  },
  {
   "cell_type": "markdown",
   "id": "75fb9971",
   "metadata": {},
   "source": [
    "Saving the best regression model using pickle"
   ]
  },
  {
   "cell_type": "markdown",
   "id": "829530c5",
   "metadata": {},
   "source": [
    "# Prediction Conclusion:"
   ]
  },
  {
   "cell_type": "code",
   "execution_count": 169,
   "id": "80cfbfbf",
   "metadata": {},
   "outputs": [
    {
     "data": {
      "text/html": [
       "<div>\n",
       "<style scoped>\n",
       "    .dataframe tbody tr th:only-of-type {\n",
       "        vertical-align: middle;\n",
       "    }\n",
       "\n",
       "    .dataframe tbody tr th {\n",
       "        vertical-align: top;\n",
       "    }\n",
       "\n",
       "    .dataframe thead th {\n",
       "        text-align: right;\n",
       "    }\n",
       "</style>\n",
       "<table border=\"1\" class=\"dataframe\">\n",
       "  <thead>\n",
       "    <tr style=\"text-align: right;\">\n",
       "      <th></th>\n",
       "      <th>original</th>\n",
       "      <th>predicted</th>\n",
       "    </tr>\n",
       "  </thead>\n",
       "  <tbody>\n",
       "    <tr>\n",
       "      <th>0</th>\n",
       "      <td>13.2</td>\n",
       "      <td>12.869453</td>\n",
       "    </tr>\n",
       "    <tr>\n",
       "      <th>1</th>\n",
       "      <td>12.2</td>\n",
       "      <td>12.010562</td>\n",
       "    </tr>\n",
       "    <tr>\n",
       "      <th>2</th>\n",
       "      <td>19.0</td>\n",
       "      <td>18.895334</td>\n",
       "    </tr>\n",
       "    <tr>\n",
       "      <th>3</th>\n",
       "      <td>10.8</td>\n",
       "      <td>10.869959</td>\n",
       "    </tr>\n",
       "    <tr>\n",
       "      <th>4</th>\n",
       "      <td>11.7</td>\n",
       "      <td>11.455853</td>\n",
       "    </tr>\n",
       "    <tr>\n",
       "      <th>5</th>\n",
       "      <td>6.9</td>\n",
       "      <td>7.286841</td>\n",
       "    </tr>\n",
       "    <tr>\n",
       "      <th>6</th>\n",
       "      <td>7.0</td>\n",
       "      <td>7.723588</td>\n",
       "    </tr>\n",
       "    <tr>\n",
       "      <th>7</th>\n",
       "      <td>19.6</td>\n",
       "      <td>19.578027</td>\n",
       "    </tr>\n",
       "    <tr>\n",
       "      <th>8</th>\n",
       "      <td>11.5</td>\n",
       "      <td>12.164258</td>\n",
       "    </tr>\n",
       "    <tr>\n",
       "      <th>9</th>\n",
       "      <td>13.4</td>\n",
       "      <td>12.500393</td>\n",
       "    </tr>\n",
       "    <tr>\n",
       "      <th>10</th>\n",
       "      <td>10.5</td>\n",
       "      <td>10.917446</td>\n",
       "    </tr>\n",
       "    <tr>\n",
       "      <th>11</th>\n",
       "      <td>8.6</td>\n",
       "      <td>9.406683</td>\n",
       "    </tr>\n",
       "    <tr>\n",
       "      <th>12</th>\n",
       "      <td>17.3</td>\n",
       "      <td>16.173287</td>\n",
       "    </tr>\n",
       "    <tr>\n",
       "      <th>13</th>\n",
       "      <td>22.3</td>\n",
       "      <td>22.800743</td>\n",
       "    </tr>\n",
       "    <tr>\n",
       "      <th>14</th>\n",
       "      <td>23.8</td>\n",
       "      <td>23.340080</td>\n",
       "    </tr>\n",
       "    <tr>\n",
       "      <th>15</th>\n",
       "      <td>18.9</td>\n",
       "      <td>19.425983</td>\n",
       "    </tr>\n",
       "    <tr>\n",
       "      <th>16</th>\n",
       "      <td>10.1</td>\n",
       "      <td>9.843894</td>\n",
       "    </tr>\n",
       "    <tr>\n",
       "      <th>17</th>\n",
       "      <td>15.2</td>\n",
       "      <td>15.030065</td>\n",
       "    </tr>\n",
       "    <tr>\n",
       "      <th>18</th>\n",
       "      <td>14.8</td>\n",
       "      <td>14.246981</td>\n",
       "    </tr>\n",
       "    <tr>\n",
       "      <th>19</th>\n",
       "      <td>11.2</td>\n",
       "      <td>10.748505</td>\n",
       "    </tr>\n",
       "    <tr>\n",
       "      <th>20</th>\n",
       "      <td>19.6</td>\n",
       "      <td>19.836800</td>\n",
       "    </tr>\n",
       "    <tr>\n",
       "      <th>21</th>\n",
       "      <td>10.3</td>\n",
       "      <td>10.435530</td>\n",
       "    </tr>\n",
       "    <tr>\n",
       "      <th>22</th>\n",
       "      <td>25.4</td>\n",
       "      <td>24.841497</td>\n",
       "    </tr>\n",
       "    <tr>\n",
       "      <th>23</th>\n",
       "      <td>11.7</td>\n",
       "      <td>11.726992</td>\n",
       "    </tr>\n",
       "    <tr>\n",
       "      <th>24</th>\n",
       "      <td>18.3</td>\n",
       "      <td>19.196220</td>\n",
       "    </tr>\n",
       "    <tr>\n",
       "      <th>25</th>\n",
       "      <td>19.2</td>\n",
       "      <td>17.627619</td>\n",
       "    </tr>\n",
       "    <tr>\n",
       "      <th>26</th>\n",
       "      <td>10.3</td>\n",
       "      <td>10.489660</td>\n",
       "    </tr>\n",
       "    <tr>\n",
       "      <th>27</th>\n",
       "      <td>17.6</td>\n",
       "      <td>16.656946</td>\n",
       "    </tr>\n",
       "    <tr>\n",
       "      <th>28</th>\n",
       "      <td>10.1</td>\n",
       "      <td>9.592883</td>\n",
       "    </tr>\n",
       "    <tr>\n",
       "      <th>29</th>\n",
       "      <td>10.5</td>\n",
       "      <td>10.782347</td>\n",
       "    </tr>\n",
       "    <tr>\n",
       "      <th>30</th>\n",
       "      <td>10.4</td>\n",
       "      <td>10.810814</td>\n",
       "    </tr>\n",
       "    <tr>\n",
       "      <th>31</th>\n",
       "      <td>9.7</td>\n",
       "      <td>9.632457</td>\n",
       "    </tr>\n",
       "    <tr>\n",
       "      <th>32</th>\n",
       "      <td>7.6</td>\n",
       "      <td>7.834258</td>\n",
       "    </tr>\n",
       "    <tr>\n",
       "      <th>33</th>\n",
       "      <td>11.8</td>\n",
       "      <td>12.214892</td>\n",
       "    </tr>\n",
       "    <tr>\n",
       "      <th>34</th>\n",
       "      <td>21.2</td>\n",
       "      <td>19.956895</td>\n",
       "    </tr>\n",
       "    <tr>\n",
       "      <th>35</th>\n",
       "      <td>9.3</td>\n",
       "      <td>10.156590</td>\n",
       "    </tr>\n",
       "    <tr>\n",
       "      <th>36</th>\n",
       "      <td>10.4</td>\n",
       "      <td>10.653239</td>\n",
       "    </tr>\n",
       "    <tr>\n",
       "      <th>37</th>\n",
       "      <td>22.2</td>\n",
       "      <td>20.664188</td>\n",
       "    </tr>\n",
       "    <tr>\n",
       "      <th>38</th>\n",
       "      <td>9.2</td>\n",
       "      <td>8.675696</td>\n",
       "    </tr>\n",
       "    <tr>\n",
       "      <th>39</th>\n",
       "      <td>16.1</td>\n",
       "      <td>15.616563</td>\n",
       "    </tr>\n",
       "  </tbody>\n",
       "</table>\n",
       "</div>"
      ],
      "text/plain": [
       "    original  predicted\n",
       "0       13.2  12.869453\n",
       "1       12.2  12.010562\n",
       "2       19.0  18.895334\n",
       "3       10.8  10.869959\n",
       "4       11.7  11.455853\n",
       "5        6.9   7.286841\n",
       "6        7.0   7.723588\n",
       "7       19.6  19.578027\n",
       "8       11.5  12.164258\n",
       "9       13.4  12.500393\n",
       "10      10.5  10.917446\n",
       "11       8.6   9.406683\n",
       "12      17.3  16.173287\n",
       "13      22.3  22.800743\n",
       "14      23.8  23.340080\n",
       "15      18.9  19.425983\n",
       "16      10.1   9.843894\n",
       "17      15.2  15.030065\n",
       "18      14.8  14.246981\n",
       "19      11.2  10.748505\n",
       "20      19.6  19.836800\n",
       "21      10.3  10.435530\n",
       "22      25.4  24.841497\n",
       "23      11.7  11.726992\n",
       "24      18.3  19.196220\n",
       "25      19.2  17.627619\n",
       "26      10.3  10.489660\n",
       "27      17.6  16.656946\n",
       "28      10.1   9.592883\n",
       "29      10.5  10.782347\n",
       "30      10.4  10.810814\n",
       "31       9.7   9.632457\n",
       "32       7.6   7.834258\n",
       "33      11.8  12.214892\n",
       "34      21.2  19.956895\n",
       "35       9.3  10.156590\n",
       "36      10.4  10.653239\n",
       "37      22.2  20.664188\n",
       "38       9.2   8.675696\n",
       "39      16.1  15.616563"
      ]
     },
     "execution_count": 169,
     "metadata": {},
     "output_type": "execute_result"
    }
   ],
   "source": [
    "import numpy as np\n",
    "a=np.array(y_test)\n",
    "predicted=np.array(final_model.predict(x_test))\n",
    "df_comparison = pd.DataFrame({\"original\":a,\"predicted\":predicted},index= range(len(a)))\n",
    "df_comparison"
   ]
  },
  {
   "cell_type": "markdown",
   "id": "36831147",
   "metadata": {},
   "source": [
    "Hence predicting the total sales generated from all the sales channel for different independant variables."
   ]
  },
  {
   "cell_type": "code",
   "execution_count": 170,
   "id": "5ec1ffea",
   "metadata": {},
   "outputs": [],
   "source": [
    "df_comparison.to_csv('Advertising_Sales_Channel_Prediction.csv')"
   ]
  },
  {
   "cell_type": "markdown",
   "id": "2ba074c8",
   "metadata": {},
   "source": [
    "Saving the predicted values in a csv file"
   ]
  }
 ],
 "metadata": {
  "kernelspec": {
   "display_name": "Python 3 (ipykernel)",
   "language": "python",
   "name": "python3"
  },
  "language_info": {
   "codemirror_mode": {
    "name": "ipython",
    "version": 3
   },
   "file_extension": ".py",
   "mimetype": "text/x-python",
   "name": "python",
   "nbconvert_exporter": "python",
   "pygments_lexer": "ipython3",
   "version": "3.9.7"
  }
 },
 "nbformat": 4,
 "nbformat_minor": 5
}
